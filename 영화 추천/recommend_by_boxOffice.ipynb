{
 "cells": [
  {
   "cell_type": "code",
   "execution_count": 12,
   "metadata": {},
   "outputs": [],
   "source": [
    "import json\n",
    "import requests\n",
    "from bs4 import BeautifulSoup as bs\n",
    "import pandas as pd"
   ]
  },
  {
   "cell_type": "code",
   "execution_count": 13,
   "metadata": {},
   "outputs": [],
   "source": [
    "# 사용자 에이전트 요청 헤더\n",
    "headers = {'User-Agent' : 'Mozilla/5.0 (Windows NT 10.0; Win64; x64)AppleWebKit/537.36 (KHTML, like Gecko) Chrome/73.0.3683.86 Safari/537.36'}\n",
    "\n",
    "data = requests.get('https://movie.naver.com/movie/running/current.naver?view=list&tab=normal&order=reserve',headers=headers) \n",
    "soup = BeautifulSoup(data.text, 'html.parser')"
   ]
  },
  {
   "cell_type": "code",
   "execution_count": 14,
   "metadata": {},
   "outputs": [
    {
     "name": "stdout",
     "output_type": "stream",
     "text": [
      "[['인질', '45.0%', 'https://movie-phinf.pstatic.net/20210714_30/16262486171225Il6s_JPEG/movie_image.jpg?type=m99_141_2', 'https://movie.naver.com/movie/bi/mi/running.naver?code=185614'], ['싱크홀', '14.46%', 'https://movie-phinf.pstatic.net/20210726_114/1627265960693kkM0B_JPEG/movie_image.jpg?type=m99_141_2', 'https://movie.naver.com/movie/bi/mi/running.naver?code=188472'], ['퍼피 구조대 더 무비', '8.13%', 'https://movie-phinf.pstatic.net/20210819_75/1629349842810OQ3u0_JPEG/movie_image.jpg?type=m99_141_2', 'https://movie.naver.com/movie/bi/mi/running.naver?code=207360']]\n"
     ]
    }
   ],
   "source": [
    "url = \"https://movie.naver.com/movie/running/current.naver?view=list&tab=normal&order=reserve\"    \n",
    "res = requests.get(url)\n",
    "html = res.text\n",
    "soup = bs(html, \"html.parser\")\n",
    "\n",
    "reserve_list = []\n",
    "for i in range(1, 4, 1):\n",
    "    title = soup.select_one(\"ul.lst_detail_t1 > li:nth-child(\" + str(i) + \") > dl.lst_dsc > dt.tit > a\")\n",
    "    exp = soup.select_one(\"ul.lst_detail_t1 > li:nth-child(\" + str(i) + \") > dl.lst_dsc > dd.star > dl.info_exp > dd > div.b_star > span.num\")\n",
    "    img = soup.select_one(\"ul.lst_detail_t1 > li:nth-child(\" + str(i) + \") > div.thumb > a > img\")\n",
    "    link = soup.select_one(\"ul.lst_detail_t1 > li:nth-child(\" + str(i) + \") > dl.lst_dsc > dd.info_t1 > div.btn_area > a\")\n",
    "        \n",
    "    reserve_list.append([title.text, exp.text + \"%\", img[\"src\"], \"https://movie.naver.com\" + link[\"href\"]])\n",
    "    \n",
    "print(reserve_list)"
   ]
  },
  {
   "cell_type": "code",
   "execution_count": 15,
   "metadata": {},
   "outputs": [
    {
     "data": {
      "text/html": [
       "<div>\n",
       "<style scoped>\n",
       "    .dataframe tbody tr th:only-of-type {\n",
       "        vertical-align: middle;\n",
       "    }\n",
       "\n",
       "    .dataframe tbody tr th {\n",
       "        vertical-align: top;\n",
       "    }\n",
       "\n",
       "    .dataframe thead th {\n",
       "        text-align: right;\n",
       "    }\n",
       "</style>\n",
       "<table border=\"1\" class=\"dataframe\">\n",
       "  <thead>\n",
       "    <tr style=\"text-align: right;\">\n",
       "      <th></th>\n",
       "      <th>0</th>\n",
       "      <th>1</th>\n",
       "      <th>2</th>\n",
       "      <th>3</th>\n",
       "    </tr>\n",
       "  </thead>\n",
       "  <tbody>\n",
       "    <tr>\n",
       "      <th>0</th>\n",
       "      <td>인질</td>\n",
       "      <td>45.0%</td>\n",
       "      <td>https://movie-phinf.pstatic.net/20210714_30/16...</td>\n",
       "      <td>https://movie.naver.com/movie/bi/mi/running.na...</td>\n",
       "    </tr>\n",
       "    <tr>\n",
       "      <th>1</th>\n",
       "      <td>싱크홀</td>\n",
       "      <td>14.46%</td>\n",
       "      <td>https://movie-phinf.pstatic.net/20210726_114/1...</td>\n",
       "      <td>https://movie.naver.com/movie/bi/mi/running.na...</td>\n",
       "    </tr>\n",
       "    <tr>\n",
       "      <th>2</th>\n",
       "      <td>퍼피 구조대 더 무비</td>\n",
       "      <td>8.13%</td>\n",
       "      <td>https://movie-phinf.pstatic.net/20210819_75/16...</td>\n",
       "      <td>https://movie.naver.com/movie/bi/mi/running.na...</td>\n",
       "    </tr>\n",
       "  </tbody>\n",
       "</table>\n",
       "</div>"
      ],
      "text/plain": [
       "             0       1                                                  2  \\\n",
       "0           인질   45.0%  https://movie-phinf.pstatic.net/20210714_30/16...   \n",
       "1          싱크홀  14.46%  https://movie-phinf.pstatic.net/20210726_114/1...   \n",
       "2  퍼피 구조대 더 무비   8.13%  https://movie-phinf.pstatic.net/20210819_75/16...   \n",
       "\n",
       "                                                   3  \n",
       "0  https://movie.naver.com/movie/bi/mi/running.na...  \n",
       "1  https://movie.naver.com/movie/bi/mi/running.na...  \n",
       "2  https://movie.naver.com/movie/bi/mi/running.na...  "
      ]
     },
     "execution_count": 15,
     "metadata": {},
     "output_type": "execute_result"
    }
   ],
   "source": [
    "boxoffice=pd.DataFrame(reserve_list)\n",
    "boxoffice.columns=['movieNa']\n",
    "boxoffice"
   ]
  },
  {
   "cell_type": "code",
   "execution_count": null,
   "metadata": {},
   "outputs": [],
   "source": []
  }
 ],
 "metadata": {
  "kernelspec": {
   "display_name": "Python 3",
   "language": "python",
   "name": "python3"
  },
  "language_info": {
   "codemirror_mode": {
    "name": "ipython",
    "version": 3
   },
   "file_extension": ".py",
   "mimetype": "text/x-python",
   "name": "python",
   "nbconvert_exporter": "python",
   "pygments_lexer": "ipython3",
   "version": "3.8.5"
  }
 },
 "nbformat": 4,
 "nbformat_minor": 4
}
