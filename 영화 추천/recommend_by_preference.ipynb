{
 "cells": [
  {
   "cell_type": "markdown",
   "metadata": {},
   "source": [
    "## 영화 5개 받기"
   ]
  },
  {
   "cell_type": "code",
   "execution_count": 1,
   "metadata": {
    "scrolled": true
   },
   "outputs": [
    {
     "name": "stdout",
     "output_type": "stream",
     "text": [
      "좋아하는 영화와 그 개봉연도를 ,로 구분하여 5개 입력해주세요(ex. 명량 2014, 어벤져스 2018): \n",
      "모가디슈 2021, 천문 2019, 라라랜드 2016, 크루엘라 2021, 블랙 위도우 2021\n",
      "['모가디슈 2021', ' 천문 2019', ' 라라랜드 2016', ' 크루엘라 2021', ' 블랙 위도우 2021']\n"
     ]
    }
   ],
   "source": [
    "print(\"좋아하는 영화와 그 개봉연도를 ,로 구분하여 5개 입력해주세요(ex. 명량 2014, 어벤져스 2018): \")\n",
    "movie_list = input().split(\",\")\n",
    "print(movie_list)"
   ]
  },
  {
   "cell_type": "markdown",
   "metadata": {},
   "source": [
    "## 영화 정보"
   ]
  },
  {
   "cell_type": "code",
   "execution_count": 2,
   "metadata": {},
   "outputs": [],
   "source": [
    "import requests\n",
    "import json"
   ]
  },
  {
   "cell_type": "code",
   "execution_count": 3,
   "metadata": {},
   "outputs": [
    {
     "name": "stdout",
     "output_type": "stream",
     "text": [
      "[['20204117', '모가디슈', '액션,드라마', '2021'], ['20184571', '천문: 하늘에 묻는다', '사극', '2019'], ['20167904', '라라랜드', '드라마,뮤지컬,멜로/로맨스', '2016'], ['20216362', '크루엘라', '드라마,범죄,코미디', '2021'], ['20191951', '블랙 위도우', '액션,어드벤처,SF', '2021']]\n",
      "['모가디슈', '천문: 하늘에 묻는다', '라라랜드', '크루엘라', '블랙 위도우']\n"
     ]
    }
   ],
   "source": [
    "movie_cd_list = []\n",
    "director_list = []\n",
    "selected_movie_list = []\n",
    "\n",
    "for movie in movie_list:\n",
    "    movie_cd_url = 'https://www.kobis.or.kr/kobisopenapi/webservice/rest/movie/searchMovieList.json?key='+키+'&movieNm='+movie[:-5]\n",
    "    res = requests.get(movie_cd_url)\n",
    "    text = res.text\n",
    "    d = json.loads(text)\n",
    "    if d['movieListResult']['totCnt'] > 1:    # 동명의 영화가 있을 경우\n",
    "        item_year = movie[-4:]   # 개봉연도로 구분\n",
    "        for item in d['movieListResult']['movieList']:\n",
    "            if item_year == item['openDt'][:4]:\n",
    "                # director_list = director['peopleNm']\n",
    "                movie_cd_list.append([item['movieCd'],\n",
    "                                      item['movieNm'],\n",
    "                                      item['genreAlt'],\n",
    "                                      item['openDt'][:4]])\n",
    "                selected_movie_list.append(item['movieNm'])\n",
    "    if d['movieListResult']['totCnt'] == 1:\n",
    "        for item in d['movieListResult']['movieList']:\n",
    "            movie_cd_list.append([item['movieCd'],\n",
    "                                  item['movieNm'],\n",
    "                                  item['genreAlt'],\n",
    "                                  item['openDt'][:4]])\n",
    "            selected_movie_list.append(item['movieNm'])\n",
    "\n",
    "print(movie_cd_list)\n",
    "print(selected_movie_list)"
   ]
  },
  {
   "cell_type": "code",
   "execution_count": 4,
   "metadata": {},
   "outputs": [
    {
     "data": {
      "text/html": [
       "<div>\n",
       "<style scoped>\n",
       "    .dataframe tbody tr th:only-of-type {\n",
       "        vertical-align: middle;\n",
       "    }\n",
       "\n",
       "    .dataframe tbody tr th {\n",
       "        vertical-align: top;\n",
       "    }\n",
       "\n",
       "    .dataframe thead th {\n",
       "        text-align: right;\n",
       "    }\n",
       "</style>\n",
       "<table border=\"1\" class=\"dataframe\">\n",
       "  <thead>\n",
       "    <tr style=\"text-align: right;\">\n",
       "      <th></th>\n",
       "      <th>movieCd</th>\n",
       "      <th>movieNm</th>\n",
       "      <th>genreAlt</th>\n",
       "      <th>openYr</th>\n",
       "    </tr>\n",
       "  </thead>\n",
       "  <tbody>\n",
       "    <tr>\n",
       "      <th>0</th>\n",
       "      <td>20204117</td>\n",
       "      <td>모가디슈</td>\n",
       "      <td>액션,드라마</td>\n",
       "      <td>2021</td>\n",
       "    </tr>\n",
       "    <tr>\n",
       "      <th>1</th>\n",
       "      <td>20184571</td>\n",
       "      <td>천문: 하늘에 묻는다</td>\n",
       "      <td>사극</td>\n",
       "      <td>2019</td>\n",
       "    </tr>\n",
       "    <tr>\n",
       "      <th>2</th>\n",
       "      <td>20167904</td>\n",
       "      <td>라라랜드</td>\n",
       "      <td>드라마,뮤지컬,멜로/로맨스</td>\n",
       "      <td>2016</td>\n",
       "    </tr>\n",
       "    <tr>\n",
       "      <th>3</th>\n",
       "      <td>20216362</td>\n",
       "      <td>크루엘라</td>\n",
       "      <td>드라마,범죄,코미디</td>\n",
       "      <td>2021</td>\n",
       "    </tr>\n",
       "    <tr>\n",
       "      <th>4</th>\n",
       "      <td>20191951</td>\n",
       "      <td>블랙 위도우</td>\n",
       "      <td>액션,어드벤처,SF</td>\n",
       "      <td>2021</td>\n",
       "    </tr>\n",
       "  </tbody>\n",
       "</table>\n",
       "</div>"
      ],
      "text/plain": [
       "    movieCd      movieNm        genreAlt openYr\n",
       "0  20204117         모가디슈          액션,드라마   2021\n",
       "1  20184571  천문: 하늘에 묻는다              사극   2019\n",
       "2  20167904         라라랜드  드라마,뮤지컬,멜로/로맨스   2016\n",
       "3  20216362         크루엘라      드라마,범죄,코미디   2021\n",
       "4  20191951       블랙 위도우      액션,어드벤처,SF   2021"
      ]
     },
     "execution_count": 4,
     "metadata": {},
     "output_type": "execute_result"
    }
   ],
   "source": [
    "import pandas as pd\n",
    "\n",
    "movie_cdlist_df = pd.DataFrame(movie_cd_list)\n",
    "movie_cdlist_df.columns = ['movieCd', 'movieNm','genreAlt', 'openYr']\n",
    "movie_cdlist_df"
   ]
  },
  {
   "cell_type": "markdown",
   "metadata": {},
   "source": [
    "## 영화코드로 정보 추출"
   ]
  },
  {
   "cell_type": "code",
   "execution_count": 5,
   "metadata": {},
   "outputs": [
    {
     "name": "stdout",
     "output_type": "stream",
     "text": [
      "['류승완', '허진호', '데이미언 셔젤', '크레이그 질레스피', '케이트 쇼트랜드']\n",
      "['김윤석', '조인성', '허준호', '구교환', '김소진', '정만식', '김재화', '박경혜', '박명신', '한철우', '최민식', '한석규', '신구', '김홍파', '허준호', '김태우', '김원해', '임원희', '오광록', '박성훈', '엠마 스톤', '라이언 고슬링', '핀 위트록', 'J.K. 시몬스', '로즈마리 드윗', '엠마 스톤', '엠마 톰슨', '마크 스트롱', '스칼렛 요한슨', '플로렌스 퓨', '레이첼 와이즈', '데이빗 하버']\n",
      "['김윤석', '조인성', '허준호', '최민식', '한석규', '신구', '엠마 스톤', '라이언 고슬링', '핀 위트록', '엠마 스톤', '엠마 톰슨', '마크 스트롱', '스칼렛 요한슨', '플로렌스 퓨', '레이첼 와이즈']\n",
      "['액션', '드라마', '사극', '드라마', '뮤지컬', '멜로/로맨스', '드라마', '범죄', '코미디', '액션', '어드벤처', 'SF']\n"
     ]
    }
   ],
   "source": [
    "movie_detail_list = []\n",
    "movie_director_list = []\n",
    "movie_cast_list = []    # 한 영화당 최대 10명의 배우를 추출하여 저장한 리스트\n",
    "direct_list = []\n",
    "movie_mainactor_list = []    # 한 영화당 최대 2명(주인공)의 배우를 추출하여 저장한 리스트\n",
    "movie_genre_list = [] \n",
    "\n",
    "actor_list = []              # 5개 영화의 movie_cast_list을 모은 것\n",
    "mainactor_list = []          # 5개 영화의 movie_mainactor_list을 모은 것\n",
    "genre_list = []              # 5개 영화의 장르를 모은 것\n",
    "\n",
    "movie_actor_list = [[] for i in range(0,5)]\n",
    "movie_direc_list = [[] for i in range(0,5)]\n",
    "j=0\n",
    "\n",
    "for movieCd in movie_cdlist_df['movieCd']:\n",
    "    movie_director_list.clear()\n",
    "    movie_cast_list.clear()\n",
    "    movie_mainactor_list.clear()\n",
    "    movie_genre_list.clear()\n",
    "    actor_list_url = 'https://www.kobis.or.kr/kobisopenapi/webservice/rest/movie/searchMovieInfo.json?key='+키+'&movieCd='+movieCd\n",
    "    res = requests.get(actor_list_url)\n",
    "    text = res.text\n",
    "    d = json.loads(text)\n",
    "\n",
    "    for direc in d['movieInfoResult']['movieInfo']['directors']:\n",
    "        movie_director_list.append(direc['peopleNm'])\n",
    "        direct_list+=movie_director_list\n",
    "\n",
    "    for cast in d['movieInfoResult']['movieInfo']['actors']:\n",
    "        if len(movie_mainactor_list) < 3:\n",
    "            movie_mainactor_list.append(cast['peopleNm'])\n",
    "        if len(movie_cast_list) <= 9:\n",
    "            movie_cast_list.append(cast['peopleNm'])\n",
    "            \n",
    "    for genr in d['movieInfoResult']['movieInfo']['genres']:\n",
    "        movie_genre_list.append(genr['genreNm'])\n",
    "  \n",
    "    #print(movie_cast_list)\n",
    "    actor_list += movie_cast_list\n",
    "    mainactor_list += movie_mainactor_list\n",
    "    genre_list += movie_genre_list\n",
    "\n",
    "    j+=1\n",
    "\n",
    "print(direct_list)\n",
    "print(actor_list)\n",
    "print(mainactor_list)\n",
    "print(genre_list)"
   ]
  },
  {
   "cell_type": "markdown",
   "metadata": {},
   "source": [
    "## 배우 등장 횟수"
   ]
  },
  {
   "cell_type": "code",
   "execution_count": 6,
   "metadata": {},
   "outputs": [
    {
     "data": {
      "text/plain": [
       "{'김윤석': 1,\n",
       " '조인성': 1,\n",
       " '허준호': 2,\n",
       " '구교환': 1,\n",
       " '김소진': 1,\n",
       " '정만식': 1,\n",
       " '김재화': 1,\n",
       " '박경혜': 1,\n",
       " '박명신': 1,\n",
       " '한철우': 1,\n",
       " '최민식': 1,\n",
       " '한석규': 1,\n",
       " '신구': 1,\n",
       " '김홍파': 1,\n",
       " '김태우': 1,\n",
       " '김원해': 1,\n",
       " '임원희': 1,\n",
       " '오광록': 1,\n",
       " '박성훈': 1,\n",
       " '엠마 스톤': 2,\n",
       " '라이언 고슬링': 1,\n",
       " '핀 위트록': 1,\n",
       " 'J.K. 시몬스': 1,\n",
       " '로즈마리 드윗': 1,\n",
       " '엠마 톰슨': 1,\n",
       " '마크 스트롱': 1,\n",
       " '스칼렛 요한슨': 1,\n",
       " '플로렌스 퓨': 1,\n",
       " '레이첼 와이즈': 1,\n",
       " '데이빗 하버': 1}"
      ]
     },
     "execution_count": 6,
     "metadata": {},
     "output_type": "execute_result"
    }
   ],
   "source": [
    "actor_dict = dict()\n",
    "for i in actor_list:\n",
    "    if i not in actor_dict:\n",
    "        actor_dict[i]=1\n",
    "    else:\n",
    "        actor_dict[i]=actor_dict[i]+1\n",
    "\n",
    "actor_dict"
   ]
  },
  {
   "cell_type": "markdown",
   "metadata": {},
   "source": [
    "## 주연배우(맨 앞 3사람)"
   ]
  },
  {
   "cell_type": "code",
   "execution_count": 7,
   "metadata": {},
   "outputs": [
    {
     "data": {
      "text/plain": [
       "{'김윤석': 1,\n",
       " '조인성': 1,\n",
       " '허준호': 1,\n",
       " '최민식': 1,\n",
       " '한석규': 1,\n",
       " '신구': 1,\n",
       " '엠마 스톤': 2,\n",
       " '라이언 고슬링': 1,\n",
       " '핀 위트록': 1,\n",
       " '엠마 톰슨': 1,\n",
       " '마크 스트롱': 1,\n",
       " '스칼렛 요한슨': 1,\n",
       " '플로렌스 퓨': 1,\n",
       " '레이첼 와이즈': 1}"
      ]
     },
     "execution_count": 7,
     "metadata": {},
     "output_type": "execute_result"
    }
   ],
   "source": [
    "mainactor_dict = dict()\n",
    "for i in mainactor_list:\n",
    "    if i not in mainactor_dict:\n",
    "        mainactor_dict[i]=1\n",
    "    else:\n",
    "        mainactor_dict[i]=mainactor_dict[i]+1\n",
    "\n",
    "mainactor_dict"
   ]
  },
  {
   "cell_type": "markdown",
   "metadata": {},
   "source": [
    "## 추천배우 5명"
   ]
  },
  {
   "cell_type": "markdown",
   "metadata": {},
   "source": [
    "- 2번 등장 배우 우선\n",
    "- 빈자리는 랜덤"
   ]
  },
  {
   "cell_type": "code",
   "execution_count": 8,
   "metadata": {},
   "outputs": [
    {
     "data": {
      "text/plain": [
       "['허준호', '엠마 스톤', '김윤석', '라이언 고슬링', '마크 스트롱']"
      ]
     },
     "execution_count": 8,
     "metadata": {},
     "output_type": "execute_result"
    }
   ],
   "source": [
    "import random\n",
    "\n",
    "prefer_actor_list = []\n",
    "for key, value in actor_dict.items():\n",
    "    if value > 1:\n",
    "        prefer_actor_list.append(key)\n",
    "if len(prefer_actor_list)!=5:\n",
    "    while True:\n",
    "        actor = random.choice(mainactor_list)\n",
    "        if actor not in prefer_actor_list:\n",
    "            prefer_actor_list.append(actor)\n",
    "        if len(prefer_actor_list)==5:\n",
    "            break\n",
    "\n",
    "prefer_actor_list"
   ]
  },
  {
   "cell_type": "markdown",
   "metadata": {},
   "source": [
    "## 배우 추천 코드"
   ]
  },
  {
   "cell_type": "code",
   "execution_count": 9,
   "metadata": {},
   "outputs": [],
   "source": [
    "actor_code = []\n",
    "filmo_list = []\n",
    "final_filmo_list = []\n",
    "\n",
    "for prefer_actor in prefer_actor_list:\n",
    "    actor_list_url = 'http://kobis.or.kr/kobisopenapi/webservice/rest/people/searchPeopleList.json?key='+키+'&peopleNm='+prefer_actor\n",
    "    res = requests.get(actor_list_url)\n",
    "    text = res.text\n",
    "    d = json.loads(text)\n",
    "\n",
    "    for actor in d['peopleListResult']['peopleList']:\n",
    "        final_filmo_list.clear()\n",
    "        if actor['repRoleNm'] == '배우' and actor['peopleNmEn'] != \"\":\n",
    "            filmo_list = actor['filmoNames'].split(\"|\")\n",
    "            for filmo in filmo_list:\n",
    "                if filmo not in selected_movie_list:\n",
    "                    final_filmo_list.append(filmo)\n",
    "            actor_code.append([actor['peopleCd'], actor['peopleNm'],actor['peopleNmEn'], actor['repRoleNm'], final_filmo_list[:5]])"
   ]
  },
  {
   "cell_type": "code",
   "execution_count": 10,
   "metadata": {},
   "outputs": [
    {
     "name": "stdout",
     "output_type": "stream",
     "text": [
      "['모가디슈', '천문: 하늘에 묻는다', '라라랜드', '크루엘라', '블랙 위도우']\n",
      "['크루엘라', '1917', '샤잠!', '더 캐쳐 워즈 어 스파이', '킹스맨: 골든 서클', '대테러 님로드 작전', '미스 슬로운', '내가 잠들기 전에', '마인드스케이프', '블러드 워', '테이크다운', '팅커 테일러 솔저 스파이', '킥 애스: 영웅의 탄생', '바디 오브 라이즈', '투 엔드 올 워즈', '슈퍼스티션', '이프 온리: 맨 위드 레인']\n",
      "['1917', '샤잠!', '더 캐쳐 워즈 어 스파이', '킹스맨: 골든 서클', '대테러 님로드 작전', '미스 슬로운', '내가 잠들기 전에', '마인드스케이프', '블러드 워', '테이크다운', '팅커 테일러 솔저 스파이', '킥 애스: 영웅의 탄생', '바디 오브 라이즈', '투 엔드 올 워즈', '슈퍼스티션', '이프 온리: 맨 위드 레인']\n"
     ]
    }
   ],
   "source": [
    "print(selected_movie_list)\n",
    "print(filmo_list)\n",
    "print(final_filmo_list)"
   ]
  },
  {
   "cell_type": "code",
   "execution_count": 11,
   "metadata": {},
   "outputs": [
    {
     "data": {
      "text/html": [
       "<div>\n",
       "<style scoped>\n",
       "    .dataframe tbody tr th:only-of-type {\n",
       "        vertical-align: middle;\n",
       "    }\n",
       "\n",
       "    .dataframe tbody tr th {\n",
       "        vertical-align: top;\n",
       "    }\n",
       "\n",
       "    .dataframe thead th {\n",
       "        text-align: right;\n",
       "    }\n",
       "</style>\n",
       "<table border=\"1\" class=\"dataframe\">\n",
       "  <thead>\n",
       "    <tr style=\"text-align: right;\">\n",
       "      <th></th>\n",
       "      <th>peopleCd</th>\n",
       "      <th>peopleNm</th>\n",
       "      <th>peopleNmEn</th>\n",
       "      <th>repRoleNm</th>\n",
       "      <th>filmoNames</th>\n",
       "    </tr>\n",
       "  </thead>\n",
       "  <tbody>\n",
       "    <tr>\n",
       "      <th>0</th>\n",
       "      <td>10088453</td>\n",
       "      <td>허준호</td>\n",
       "      <td>HUH Joon-ho</td>\n",
       "      <td>배우</td>\n",
       "      <td>[노량: 죽음의 바다, 결백, 퍼펙트맨, 국가부도의 날, 인랑]</td>\n",
       "    </tr>\n",
       "    <tr>\n",
       "      <th>1</th>\n",
       "      <td>10049633</td>\n",
       "      <td>엠마 스톤</td>\n",
       "      <td>Emma Stone</td>\n",
       "      <td>배우</td>\n",
       "      <td>[크루즈 패밀리: 뉴 에이지, 좀비랜드: 더블 탭, 더 페이버릿: 여왕의 여자, 빌...</td>\n",
       "    </tr>\n",
       "    <tr>\n",
       "      <th>2</th>\n",
       "      <td>10005276</td>\n",
       "      <td>김윤석</td>\n",
       "      <td>KIM Yun-seok</td>\n",
       "      <td>배우</td>\n",
       "      <td>[노량: 죽음의 바다, 바이러스(가제), 미성년, 암수살인, 1987]</td>\n",
       "    </tr>\n",
       "    <tr>\n",
       "      <th>3</th>\n",
       "      <td>10014012</td>\n",
       "      <td>라이언 고슬링</td>\n",
       "      <td>Ryan Gosling</td>\n",
       "      <td>배우</td>\n",
       "      <td>[퍼스트맨, 블레이드 러너 2049, 송 투 송, 나이스 가이즈, 빅쇼트]</td>\n",
       "    </tr>\n",
       "    <tr>\n",
       "      <th>4</th>\n",
       "      <td>10024254</td>\n",
       "      <td>마크 스트롱</td>\n",
       "      <td>Mark Strong</td>\n",
       "      <td>배우</td>\n",
       "      <td>[1917, 샤잠!, 더 캐쳐 워즈 어 스파이, 킹스맨: 골든 서클, 대테러 님로드...</td>\n",
       "    </tr>\n",
       "  </tbody>\n",
       "</table>\n",
       "</div>"
      ],
      "text/plain": [
       "   peopleCd peopleNm    peopleNmEn repRoleNm  \\\n",
       "0  10088453      허준호   HUH Joon-ho        배우   \n",
       "1  10049633    엠마 스톤    Emma Stone        배우   \n",
       "2  10005276      김윤석  KIM Yun-seok        배우   \n",
       "3  10014012  라이언 고슬링  Ryan Gosling        배우   \n",
       "4  10024254   마크 스트롱   Mark Strong        배우   \n",
       "\n",
       "                                          filmoNames  \n",
       "0                [노량: 죽음의 바다, 결백, 퍼펙트맨, 국가부도의 날, 인랑]  \n",
       "1  [크루즈 패밀리: 뉴 에이지, 좀비랜드: 더블 탭, 더 페이버릿: 여왕의 여자, 빌...  \n",
       "2            [노량: 죽음의 바다, 바이러스(가제), 미성년, 암수살인, 1987]  \n",
       "3          [퍼스트맨, 블레이드 러너 2049, 송 투 송, 나이스 가이즈, 빅쇼트]  \n",
       "4  [1917, 샤잠!, 더 캐쳐 워즈 어 스파이, 킹스맨: 골든 서클, 대테러 님로드...  "
      ]
     },
     "execution_count": 11,
     "metadata": {},
     "output_type": "execute_result"
    }
   ],
   "source": [
    "actor_code_df = pd.DataFrame(actor_code)\n",
    "actor_code_df.columns = ['peopleCd','peopleNm','peopleNmEn','repRoleNm', 'filmoNames']\n",
    "actor_code_df"
   ]
  },
  {
   "cell_type": "markdown",
   "metadata": {},
   "source": [
    "## 장르 등장 횟수 "
   ]
  },
  {
   "cell_type": "code",
   "execution_count": 12,
   "metadata": {},
   "outputs": [
    {
     "data": {
      "text/plain": [
       "{'액션': 2,\n",
       " '드라마': 3,\n",
       " '사극': 1,\n",
       " '뮤지컬': 1,\n",
       " '멜로/로맨스': 1,\n",
       " '범죄': 1,\n",
       " '코미디': 1,\n",
       " '어드벤처': 1,\n",
       " 'SF': 1}"
      ]
     },
     "execution_count": 12,
     "metadata": {},
     "output_type": "execute_result"
    }
   ],
   "source": [
    "genre_dict = dict()\n",
    "for i in genre_list:\n",
    "    if i not in genre_dict:\n",
    "        genre_dict[i]=1\n",
    "    else:\n",
    "        genre_dict[i]=genre_dict[i]+1\n",
    "\n",
    "genre_dict"
   ]
  },
  {
   "cell_type": "code",
   "execution_count": 13,
   "metadata": {},
   "outputs": [
    {
     "data": {
      "text/html": [
       "<div>\n",
       "<style scoped>\n",
       "    .dataframe tbody tr th:only-of-type {\n",
       "        vertical-align: middle;\n",
       "    }\n",
       "\n",
       "    .dataframe tbody tr th {\n",
       "        vertical-align: top;\n",
       "    }\n",
       "\n",
       "    .dataframe thead th {\n",
       "        text-align: right;\n",
       "    }\n",
       "</style>\n",
       "<table border=\"1\" class=\"dataframe\">\n",
       "  <thead>\n",
       "    <tr style=\"text-align: right;\">\n",
       "      <th></th>\n",
       "      <th>genres</th>\n",
       "      <th>number</th>\n",
       "    </tr>\n",
       "  </thead>\n",
       "  <tbody>\n",
       "    <tr>\n",
       "      <th>0</th>\n",
       "      <td>액션</td>\n",
       "      <td>2</td>\n",
       "    </tr>\n",
       "    <tr>\n",
       "      <th>1</th>\n",
       "      <td>드라마</td>\n",
       "      <td>3</td>\n",
       "    </tr>\n",
       "    <tr>\n",
       "      <th>2</th>\n",
       "      <td>사극</td>\n",
       "      <td>1</td>\n",
       "    </tr>\n",
       "    <tr>\n",
       "      <th>3</th>\n",
       "      <td>뮤지컬</td>\n",
       "      <td>1</td>\n",
       "    </tr>\n",
       "    <tr>\n",
       "      <th>4</th>\n",
       "      <td>멜로/로맨스</td>\n",
       "      <td>1</td>\n",
       "    </tr>\n",
       "    <tr>\n",
       "      <th>5</th>\n",
       "      <td>범죄</td>\n",
       "      <td>1</td>\n",
       "    </tr>\n",
       "    <tr>\n",
       "      <th>6</th>\n",
       "      <td>코미디</td>\n",
       "      <td>1</td>\n",
       "    </tr>\n",
       "    <tr>\n",
       "      <th>7</th>\n",
       "      <td>어드벤처</td>\n",
       "      <td>1</td>\n",
       "    </tr>\n",
       "    <tr>\n",
       "      <th>8</th>\n",
       "      <td>SF</td>\n",
       "      <td>1</td>\n",
       "    </tr>\n",
       "  </tbody>\n",
       "</table>\n",
       "</div>"
      ],
      "text/plain": [
       "   genres  number\n",
       "0      액션       2\n",
       "1     드라마       3\n",
       "2      사극       1\n",
       "3     뮤지컬       1\n",
       "4  멜로/로맨스       1\n",
       "5      범죄       1\n",
       "6     코미디       1\n",
       "7    어드벤처       1\n",
       "8      SF       1"
      ]
     },
     "execution_count": 13,
     "metadata": {},
     "output_type": "execute_result"
    }
   ],
   "source": [
    "genre_df = pd.DataFrame(genre_dict.items())\n",
    "genre_df.columns=['genres', 'number']\n",
    "genre_df"
   ]
  },
  {
   "cell_type": "code",
   "execution_count": 14,
   "metadata": {},
   "outputs": [
    {
     "data": {
      "text/plain": [
       "array(['액션', '드라마', '사극', '뮤지컬', '멜로/로맨스', '범죄', '코미디', '어드벤처', 'SF'],\n",
       "      dtype=object)"
      ]
     },
     "execution_count": 14,
     "metadata": {},
     "output_type": "execute_result"
    }
   ],
   "source": [
    "gen=dict()\n",
    "gen=genre_df['genres']\n",
    "gg=gen.values\n",
    "gg"
   ]
  },
  {
   "cell_type": "code",
   "execution_count": 15,
   "metadata": {},
   "outputs": [
    {
     "data": {
      "text/plain": [
       "0     액션\n",
       "1    드라마\n",
       "Name: genres, dtype: object"
      ]
     },
     "execution_count": 15,
     "metadata": {},
     "output_type": "execute_result"
    }
   ],
   "source": [
    "recom_genre=[]\n",
    "recom_genre=genre_df[genre_df['number']>1]\n",
    "recom_genre_list=recom_genre['genres']\n",
    "recom_genre_list"
   ]
  },
  {
   "cell_type": "code",
   "execution_count": 16,
   "metadata": {},
   "outputs": [
    {
     "data": {
      "text/plain": [
       "array(['액션', '드라마'], dtype=object)"
      ]
     },
     "execution_count": 16,
     "metadata": {},
     "output_type": "execute_result"
    }
   ],
   "source": [
    "recom_genre_list=recom_genre_list.values\n",
    "recom_genre_list"
   ]
  },
  {
   "cell_type": "markdown",
   "metadata": {},
   "source": [
    "## 추려진 영화 장르 검색"
   ]
  },
  {
   "cell_type": "code",
   "execution_count": 17,
   "metadata": {},
   "outputs": [
    {
     "name": "stdout",
     "output_type": "stream",
     "text": [
      "[['더 캐쳐 워즈 어 스파이', '드라마,전쟁'], ['킹스맨: 골든 서클', '액션,어드벤처,코미디'], ['대테러 님로드 작전', '액션,드라마'], ['미스 슬로운', '드라마,스릴러'], ['내가 잠들기 전에', '미스터리,스릴러'], ['마인드스케이프', '스릴러'], ['팅커 테일러 솔저 스파이', '스릴러'], ['투 엔드 올 워즈', '드라마,전쟁,액션'], ['이프 온리: 맨 위드 레인', '코미디,드라마,멜로/로맨스'], ['1917', '드라마,전쟁'], ['샤잠!', '액션'], ['블러드 워', '액션,스릴러'], ['테이크다운', '액션'], ['킥 애스: 영웅의 탄생', '액션,어드벤처,코미디'], ['바디 오브 라이즈', '스릴러,액션'], ['슈퍼스티션', '공포(호러)']]\n"
     ]
    }
   ],
   "source": [
    "genre_search=[]\n",
    "movieID=[]\n",
    "prdY=[]\n",
    "odt=[]\n",
    "movieN=[]\n",
    "moviepeople=[]\n",
    "\n",
    "for i in range(len(final_filmo_list)):\n",
    "    genre_search_url = 'http://kobis.or.kr/kobisopenapi/webservice/rest/movie/searchMovieList.json?key='+키+'&movieNm='+final_filmo_list[i]\n",
    "    res = requests.get(genre_search_url)\n",
    "    text = res.text\n",
    "    d = json.loads(text)\n",
    "\n",
    "    if d['movieListResult']['totCnt'] > 1:\n",
    "        for item in d['movieListResult']['movieList']:\n",
    "            movieID.append(item['movieCd'])\n",
    "\n",
    "    if d['movieListResult']['totCnt'] == 1:        \n",
    "        for item in d['movieListResult']['movieList']:\n",
    "            genre_search.append([item['movieNm'], item['genreAlt']])\n",
    "            \n",
    "for i in range(len(movieID)):\n",
    "    id_search_url = 'http://www.kobis.or.kr/kobisopenapi/webservice/rest/movie/searchMovieInfo.json?key='+키+'&movieCd='+movieID[i]\n",
    "    res = requests.get(id_search_url)\n",
    "    text = res.text\n",
    "    d = json.loads(text)\n",
    "    \n",
    "    dd=d['movieInfoResult']['movieInfo']\n",
    "    for item in d['movieInfoResult']['movieInfo']['actors']:\n",
    "        moviepeople=item['peopleNm']\n",
    "        if moviepeople in prefer_actor_list:\n",
    "            movieN.append(dd['movieNm'])\n",
    "            prdY.append(dd['prdtYear'])\n",
    "            odt.append(dd['openDt'])\n",
    "\n",
    "for i in range(len(movieN)):\n",
    "    duplit_url = 'http://kobis.or.kr/kobisopenapi/webservice/rest/movie/searchMovieList.json?key='+키+'&movieNm='+movieN[i]\n",
    "    res = requests.get(duplit_url)\n",
    "    text = res.text\n",
    "    d = json.loads(text)\n",
    "    \n",
    "    for item in d['movieListResult']['movieList']:\n",
    "        if item['openDt']==odt[i]:\n",
    "            genre_search.append([item['movieNm'], item['genreAlt']])\n",
    "            break\n",
    "        if item['prdtYear']==prdY[i]:\n",
    "            genre_search.append([item['movieNm'], item['genreAlt']])\n",
    "\n",
    "print(genre_search)"
   ]
  },
  {
   "cell_type": "code",
   "execution_count": 18,
   "metadata": {},
   "outputs": [
    {
     "data": {
      "text/html": [
       "<div>\n",
       "<style scoped>\n",
       "    .dataframe tbody tr th:only-of-type {\n",
       "        vertical-align: middle;\n",
       "    }\n",
       "\n",
       "    .dataframe tbody tr th {\n",
       "        vertical-align: top;\n",
       "    }\n",
       "\n",
       "    .dataframe thead th {\n",
       "        text-align: right;\n",
       "    }\n",
       "</style>\n",
       "<table border=\"1\" class=\"dataframe\">\n",
       "  <thead>\n",
       "    <tr style=\"text-align: right;\">\n",
       "      <th></th>\n",
       "      <th>movieNm</th>\n",
       "      <th>genres</th>\n",
       "    </tr>\n",
       "  </thead>\n",
       "  <tbody>\n",
       "    <tr>\n",
       "      <th>0</th>\n",
       "      <td>더 캐쳐 워즈 어 스파이</td>\n",
       "      <td>드라마,전쟁</td>\n",
       "    </tr>\n",
       "    <tr>\n",
       "      <th>1</th>\n",
       "      <td>킹스맨: 골든 서클</td>\n",
       "      <td>액션,어드벤처,코미디</td>\n",
       "    </tr>\n",
       "    <tr>\n",
       "      <th>2</th>\n",
       "      <td>대테러 님로드 작전</td>\n",
       "      <td>액션,드라마</td>\n",
       "    </tr>\n",
       "    <tr>\n",
       "      <th>3</th>\n",
       "      <td>미스 슬로운</td>\n",
       "      <td>드라마,스릴러</td>\n",
       "    </tr>\n",
       "    <tr>\n",
       "      <th>4</th>\n",
       "      <td>내가 잠들기 전에</td>\n",
       "      <td>미스터리,스릴러</td>\n",
       "    </tr>\n",
       "    <tr>\n",
       "      <th>5</th>\n",
       "      <td>마인드스케이프</td>\n",
       "      <td>스릴러</td>\n",
       "    </tr>\n",
       "    <tr>\n",
       "      <th>6</th>\n",
       "      <td>팅커 테일러 솔저 스파이</td>\n",
       "      <td>스릴러</td>\n",
       "    </tr>\n",
       "    <tr>\n",
       "      <th>7</th>\n",
       "      <td>투 엔드 올 워즈</td>\n",
       "      <td>드라마,전쟁,액션</td>\n",
       "    </tr>\n",
       "    <tr>\n",
       "      <th>8</th>\n",
       "      <td>이프 온리: 맨 위드 레인</td>\n",
       "      <td>코미디,드라마,멜로/로맨스</td>\n",
       "    </tr>\n",
       "    <tr>\n",
       "      <th>9</th>\n",
       "      <td>1917</td>\n",
       "      <td>드라마,전쟁</td>\n",
       "    </tr>\n",
       "    <tr>\n",
       "      <th>10</th>\n",
       "      <td>샤잠!</td>\n",
       "      <td>액션</td>\n",
       "    </tr>\n",
       "    <tr>\n",
       "      <th>11</th>\n",
       "      <td>블러드 워</td>\n",
       "      <td>액션,스릴러</td>\n",
       "    </tr>\n",
       "    <tr>\n",
       "      <th>12</th>\n",
       "      <td>테이크다운</td>\n",
       "      <td>액션</td>\n",
       "    </tr>\n",
       "    <tr>\n",
       "      <th>13</th>\n",
       "      <td>킥 애스: 영웅의 탄생</td>\n",
       "      <td>액션,어드벤처,코미디</td>\n",
       "    </tr>\n",
       "    <tr>\n",
       "      <th>14</th>\n",
       "      <td>바디 오브 라이즈</td>\n",
       "      <td>스릴러,액션</td>\n",
       "    </tr>\n",
       "    <tr>\n",
       "      <th>15</th>\n",
       "      <td>슈퍼스티션</td>\n",
       "      <td>공포(호러)</td>\n",
       "    </tr>\n",
       "  </tbody>\n",
       "</table>\n",
       "</div>"
      ],
      "text/plain": [
       "           movieNm          genres\n",
       "0    더 캐쳐 워즈 어 스파이          드라마,전쟁\n",
       "1       킹스맨: 골든 서클     액션,어드벤처,코미디\n",
       "2       대테러 님로드 작전          액션,드라마\n",
       "3           미스 슬로운         드라마,스릴러\n",
       "4        내가 잠들기 전에        미스터리,스릴러\n",
       "5          마인드스케이프             스릴러\n",
       "6    팅커 테일러 솔저 스파이             스릴러\n",
       "7        투 엔드 올 워즈       드라마,전쟁,액션\n",
       "8   이프 온리: 맨 위드 레인  코미디,드라마,멜로/로맨스\n",
       "9             1917          드라마,전쟁\n",
       "10             샤잠!              액션\n",
       "11           블러드 워          액션,스릴러\n",
       "12           테이크다운              액션\n",
       "13    킥 애스: 영웅의 탄생     액션,어드벤처,코미디\n",
       "14       바디 오브 라이즈          스릴러,액션\n",
       "15           슈퍼스티션          공포(호러)"
      ]
     },
     "execution_count": 18,
     "metadata": {},
     "output_type": "execute_result"
    }
   ],
   "source": [
    "pre_recom_pd=pd.DataFrame(genre_search)\n",
    "pre_recom_pd.columns=['movieNm', 'genres']\n",
    "pre_recom_pd"
   ]
  },
  {
   "cell_type": "markdown",
   "metadata": {},
   "source": [
    "## 추천 장르로 영화 추출"
   ]
  },
  {
   "cell_type": "code",
   "execution_count": 19,
   "metadata": {},
   "outputs": [
    {
     "data": {
      "text/plain": [
       "{1: '킹스맨: 골든 서클',\n",
       " 2: '대테러 님로드 작전',\n",
       " 7: '투 엔드 올 워즈',\n",
       " 10: '샤잠!',\n",
       " 11: '블러드 워',\n",
       " 12: '테이크다운',\n",
       " 13: '킥 애스: 영웅의 탄생',\n",
       " 14: '바디 오브 라이즈',\n",
       " 0: '더 캐쳐 워즈 어 스파이',\n",
       " 3: '미스 슬로운',\n",
       " 8: '이프 온리: 맨 위드 레인',\n",
       " 9: '1917'}"
      ]
     },
     "execution_count": 19,
     "metadata": {},
     "output_type": "execute_result"
    }
   ],
   "source": [
    "recom_genre=dict()\n",
    "real=dict()\n",
    "for i in range(len(recom_genre_list)):\n",
    "    recom_genre=pre_recom_pd[pre_recom_pd['genres'].str.contains(recom_genre_list[i])]['movieNm']\n",
    "    real.update(recom_genre)\n",
    "real"
   ]
  },
  {
   "cell_type": "code",
   "execution_count": 22,
   "metadata": {},
   "outputs": [
    {
     "data": {
      "text/plain": [
       "['킹스맨: 골든 서클',\n",
       " '대테러 님로드 작전',\n",
       " '투 엔드 올 워즈',\n",
       " '샤잠!',\n",
       " '블러드 워',\n",
       " '테이크다운',\n",
       " '킥 애스: 영웅의 탄생',\n",
       " '바디 오브 라이즈',\n",
       " '더 캐쳐 워즈 어 스파이',\n",
       " '미스 슬로운',\n",
       " '이프 온리: 맨 위드 레인',\n",
       " '1917']"
      ]
     },
     "execution_count": 22,
     "metadata": {},
     "output_type": "execute_result"
    }
   ],
   "source": [
    "recommendation=[]\n",
    "for key, value in real.items():\n",
    "    recommendation.append(value)\n",
    "recommendation"
   ]
  },
  {
   "cell_type": "markdown",
   "metadata": {},
   "source": [
    "## 영화추천"
   ]
  },
  {
   "cell_type": "code",
   "execution_count": 23,
   "metadata": {},
   "outputs": [
    {
     "data": {
      "text/plain": [
       "['킹스맨: 골든 서클', '바디 오브 라이즈', '투 엔드 올 워즈', '대테러 님로드 작전', '이프 온리: 맨 위드 레인']"
      ]
     },
     "execution_count": 23,
     "metadata": {},
     "output_type": "execute_result"
    }
   ],
   "source": [
    "if len(recommendation)<5:\n",
    "    recommendation=random.sample(recommendation, len(recommendation))\n",
    "else:\n",
    "    recommendation=random.sample(recommendation, 5)\n",
    "recommendation"
   ]
  },
  {
   "cell_type": "code",
   "execution_count": null,
   "metadata": {},
   "outputs": [],
   "source": []
  },
  {
   "cell_type": "code",
   "execution_count": null,
   "metadata": {},
   "outputs": [],
   "source": []
  }
 ],
 "metadata": {
  "kernelspec": {
   "display_name": "Python 3",
   "language": "python",
   "name": "python3"
  },
  "language_info": {
   "codemirror_mode": {
    "name": "ipython",
    "version": 3
   },
   "file_extension": ".py",
   "mimetype": "text/x-python",
   "name": "python",
   "nbconvert_exporter": "python",
   "pygments_lexer": "ipython3",
   "version": "3.8.5"
  }
 },
 "nbformat": 4,
 "nbformat_minor": 4
}
