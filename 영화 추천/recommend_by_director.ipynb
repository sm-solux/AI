{
  "nbformat": 4,
  "nbformat_minor": 0,
  "metadata": {
    "colab": {
      "name": "recommend_by_director.ipynb의 사본",
      "provenance": [],
      "collapsed_sections": []
    },
    "kernelspec": {
      "name": "python3",
      "display_name": "Python 3"
    },
    "language_info": {
      "name": "python"
    }
  },
  "cells": [
    {
      "cell_type": "markdown",
      "metadata": {
        "id": "NRZUXcGEqWmh"
      },
      "source": [
        "## 감독 코드 추출"
      ]
    },
    {
      "cell_type": "code",
      "metadata": {
        "id": "heHRB-rmmmcP",
        "colab": {
          "base_uri": "https://localhost:8080/"
        },
        "outputId": "32a2a037-20ec-4aae-b2a9-63fb6eb9ef2c"
      },
      "source": [
        "import requests\n",
        "import json\n",
        "\n",
        "director_name = input()\n",
        "director_list_url = 'http://kobis.or.kr/kobisopenapi/webservice/rest/people/searchPeopleList.json?key=d99e474ec53733a372d8413bd2753506'+'&peopleNm='+director_name\n",
        "res = requests.get(director_list_url)\n",
        "text = res.text\n",
        "\n",
        "d = json.loads(text)\n",
        "print(d)"
      ],
      "execution_count": null,
      "outputs": [
        {
          "output_type": "stream",
          "text": [
            "정이삭\n",
            "{'faultInfo': {'message': '키의 하루 이용량을 초과하였습니다.', 'errorCode': '320011'}}\n"
          ],
          "name": "stdout"
        }
      ]
    },
    {
      "cell_type": "code",
      "metadata": {
        "colab": {
          "base_uri": "https://localhost:8080/",
          "height": 232
        },
        "id": "qeZS_-kPm8jg",
        "outputId": "a510db55-64dc-4f6f-c80e-1c788290fa81"
      },
      "source": [
        "director_list = []\n",
        "filmo_list = []\n",
        "\n",
        "for director in d['peopleListResult']['peopleList']:\n",
        "  if director['repRoleNm'] == '감독':\n",
        "    filmo_list = director['filmoNames'].split('|')\n",
        "    director_list.append([director['peopleCd'],director['peopleNm'],director['peopleNmEn'],\n",
        "                     director['repRoleNm'],filmo_list])\n",
        "  \n",
        "\n",
        "print(director_list[0][0])\n",
        "print(director_list)"
      ],
      "execution_count": null,
      "outputs": [
        {
          "output_type": "error",
          "ename": "KeyError",
          "evalue": "ignored",
          "traceback": [
            "\u001b[0;31m---------------------------------------------------------------------------\u001b[0m",
            "\u001b[0;31mKeyError\u001b[0m                                  Traceback (most recent call last)",
            "\u001b[0;32m<ipython-input-2-904a70b6e7dd>\u001b[0m in \u001b[0;36m<module>\u001b[0;34m()\u001b[0m\n\u001b[1;32m      2\u001b[0m \u001b[0mfilmo_list\u001b[0m \u001b[0;34m=\u001b[0m \u001b[0;34m[\u001b[0m\u001b[0;34m]\u001b[0m\u001b[0;34m\u001b[0m\u001b[0;34m\u001b[0m\u001b[0m\n\u001b[1;32m      3\u001b[0m \u001b[0;34m\u001b[0m\u001b[0m\n\u001b[0;32m----> 4\u001b[0;31m \u001b[0;32mfor\u001b[0m \u001b[0mdirector\u001b[0m \u001b[0;32min\u001b[0m \u001b[0md\u001b[0m\u001b[0;34m[\u001b[0m\u001b[0;34m'peopleListResult'\u001b[0m\u001b[0;34m]\u001b[0m\u001b[0;34m[\u001b[0m\u001b[0;34m'peopleList'\u001b[0m\u001b[0;34m]\u001b[0m\u001b[0;34m:\u001b[0m\u001b[0;34m\u001b[0m\u001b[0;34m\u001b[0m\u001b[0m\n\u001b[0m\u001b[1;32m      5\u001b[0m   \u001b[0;32mif\u001b[0m \u001b[0mdirector\u001b[0m\u001b[0;34m[\u001b[0m\u001b[0;34m'repRoleNm'\u001b[0m\u001b[0;34m]\u001b[0m \u001b[0;34m==\u001b[0m \u001b[0;34m'감독'\u001b[0m\u001b[0;34m:\u001b[0m\u001b[0;34m\u001b[0m\u001b[0;34m\u001b[0m\u001b[0m\n\u001b[1;32m      6\u001b[0m     \u001b[0mfilmo_list\u001b[0m \u001b[0;34m=\u001b[0m \u001b[0mdirector\u001b[0m\u001b[0;34m[\u001b[0m\u001b[0;34m'filmoNames'\u001b[0m\u001b[0;34m]\u001b[0m\u001b[0;34m.\u001b[0m\u001b[0msplit\u001b[0m\u001b[0;34m(\u001b[0m\u001b[0;34m'|'\u001b[0m\u001b[0;34m)\u001b[0m\u001b[0;34m\u001b[0m\u001b[0;34m\u001b[0m\u001b[0m\n",
            "\u001b[0;31mKeyError\u001b[0m: 'peopleListResult'"
          ]
        }
      ]
    },
    {
      "cell_type": "code",
      "metadata": {
        "id": "qQElD45Up-_H"
      },
      "source": [
        "import pandas as pd\n",
        "\n",
        "director_df = pd.DataFrame(director_list)\n",
        "director_df.columns = ['peopleCd','peopleNm','peopleNmEn','repRoleNm','filmoNames']\n",
        "# director_df\n",
        "print(director_df['filmoNames'].iloc[0][0].__class__)\n",
        "print(director_df['filmoNames'].iloc[0][:5])\n",
        "print(director_df['filmoNames'].values.flatten())\n",
        "# director_df['filmoNames'] = director_df['filmoNames'].astype(str)\n",
        "# print(director_df['filmoNames'].head())\n",
        "print(director_df['peopleCd'][0])"
      ],
      "execution_count": null,
      "outputs": []
    },
    {
      "cell_type": "markdown",
      "metadata": {
        "id": "_zzBDCkxqeBb"
      },
      "source": [
        "## 영화 코드 추출"
      ]
    },
    {
      "cell_type": "code",
      "metadata": {
        "id": "Al5Jwhg5qOSG"
      },
      "source": [
        "movieCd_list = []\n",
        "for director in director_df['peopleCd']:\n",
        "  movie_url = 'http://www.kobis.or.kr/kobisopenapi/webservice/rest/people/searchPeopleInfo.json?key=d99e474ec53733a372d8413bd2753506'+'&peopleCd='+director\n",
        "  res = requests.get(movie_url)\n",
        "  text = res.text\n",
        "  d = json.loads(text)\n",
        "  for movie in d['peopleInfoResult']['peopleInfo']['filmos']:\n",
        "    if movie['moviePartNm'] == '감독':\n",
        "      movieCd_list.append([movie['movieCd'], movie['movieNm']])\n",
        "  print(d)\n",
        "  print(movieCd_list)"
      ],
      "execution_count": null,
      "outputs": []
    },
    {
      "cell_type": "code",
      "metadata": {
        "id": "ba_ZPtVYqwfV"
      },
      "source": [
        "movieCd_df = pd.DataFrame(movieCd_list)\n",
        "movieCd_df.columns = ['movieCd', 'movieNm']\n",
        "movieCd_df"
      ],
      "execution_count": null,
      "outputs": []
    },
    {
      "cell_type": "markdown",
      "metadata": {
        "id": "AgpUN1RVt6k2"
      },
      "source": [
        "## 평점 추출"
      ]
    },
    {
      "cell_type": "code",
      "metadata": {
        "id": "QQN3BbGEq60A"
      },
      "source": [
        "import os\n",
        "import sys\n",
        "import urllib.request\n",
        "from urllib.parse import quote\n",
        "import json\n",
        "import re\n",
        "import requests"
      ],
      "execution_count": null,
      "outputs": []
    },
    {
      "cell_type": "code",
      "metadata": {
        "id": "3SiqdVL_t-ln"
      },
      "source": [
        "client_id = \"5ujvhVMfhcKiunU70W0w\"\n",
        "client_secret = \"BwcbJNwH8b\""
      ],
      "execution_count": null,
      "outputs": []
    },
    {
      "cell_type": "code",
      "metadata": {
        "id": "SA8tt4GcuDjw"
      },
      "source": [
        "film_list = []\n",
        "for movieNm in movieCd_df['movieNm']:\n",
        "  encText = urllib.parse.quote(movieNm)\n",
        "  url = \"https://openapi.naver.com/v1/search/movie.json?query=\" + encText + \"&display=100\" # json 결과\n",
        "  request = urllib.request.Request(url)\n",
        "  request.add_header(\"X-Naver-Client-Id\",client_id)\n",
        "  request.add_header(\"X-Naver-Client-Secret\",client_secret)\n",
        "  response = urllib.request.urlopen(request)\n",
        "  rescode = response.getcode()\n",
        "  if(rescode==200):\n",
        "    response_body = json.load(response)\n",
        "    film_list.append(response_body)\n",
        "    print(response_body)\n",
        "  else:\n",
        "    print(\"Error Code:\" + rescode)\n",
        "\n",
        "print(film_list)"
      ],
      "execution_count": null,
      "outputs": []
    },
    {
      "cell_type": "code",
      "metadata": {
        "id": "LBeqKa6ocmJt"
      },
      "source": [
        "print(type(film_list[0]))"
      ],
      "execution_count": null,
      "outputs": []
    },
    {
      "cell_type": "code",
      "metadata": {
        "id": "ydwx2gXDcut6"
      },
      "source": [
        "film_df = pd.DataFrame(film_list)\n",
        "film_df"
      ],
      "execution_count": null,
      "outputs": []
    },
    {
      "cell_type": "code",
      "metadata": {
        "id": "W-9LOR1Acxqh"
      },
      "source": [
        "film_df.astype({'display': int})"
      ],
      "execution_count": null,
      "outputs": []
    },
    {
      "cell_type": "code",
      "metadata": {
        "id": "2lyoiTWxdFyt"
      },
      "source": [
        "rating_list = []\n",
        "\n",
        "for i in range(film_df.shape[0]):\n",
        "  for j in range(film_df['display'][i]):\n",
        "    if director_name in film_df['items'][i][j]['director']:\n",
        "      rating_list.append([film_df['items'][i][j]['title'].replace(\"<b>\",\"\").replace(\"</b>\",\"\"),film_df['items'][i][j]['link'],film_df['items'][i][j]['image'],\n",
        "                          film_df['items'][i][j]['subtitle'].replace(\"<b>\",\"\").replace(\"</b>\",\"\"),\n",
        "                          film_df['items'][i][j]['pubDate'],film_df['items'][i][j]['director'],film_df['items'][i][j]['actor'],film_df['items'][i][j]['userRating']])\n",
        "\n",
        "rating_list"
      ],
      "execution_count": null,
      "outputs": []
    },
    {
      "cell_type": "code",
      "metadata": {
        "id": "ifWbFMw2dwt4"
      },
      "source": [
        "rating_df = pd.DataFrame(rating_list)\n",
        "rating_df.columns=['movieNm','link','image','submovieNm','pubDate','director','actor','userRating']\n",
        "rating_df = rating_df.drop_duplicates(['movieNm'], keep='first', ignore_index=True)\n",
        "rating_df_sorted = rating_df.sort_values(by=['userRating'], axis=0, ascending=False)"
      ],
      "execution_count": null,
      "outputs": []
    },
    {
      "cell_type": "code",
      "metadata": {
        "id": "00KL8zMffZz0"
      },
      "source": [
        "rating_df"
      ],
      "execution_count": null,
      "outputs": []
    },
    {
      "cell_type": "code",
      "metadata": {
        "id": "x9hNHITEf015"
      },
      "source": [
        "rating_df_sorted"
      ],
      "execution_count": null,
      "outputs": []
    },
    {
      "cell_type": "code",
      "metadata": {
        "id": "DmBlzRCpgA6o"
      },
      "source": [
        "final_recommendation = rating_df_sorted.head(5)\n",
        "final_recommendation\n",
        "final_list = final_recommendation.values.tolist()\n",
        "print(final_list)\n",
        "print(len(final_list))"
      ],
      "execution_count": null,
      "outputs": []
    },
    {
      "cell_type": "code",
      "metadata": {
        "id": "vVx-oPOgWcIX"
      },
      "source": [
        ""
      ],
      "execution_count": null,
      "outputs": []
    }
  ]
}