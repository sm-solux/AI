{
 "cells": [
  {
   "cell_type": "markdown",
   "metadata": {
    "id": "NRZUXcGEqWmh"
   },
   "source": [
    "## 감독 코드 추출"
   ]
  },
  {
   "cell_type": "code",
   "execution_count": 1,
   "metadata": {
    "colab": {
     "base_uri": "https://localhost:8080/"
    },
    "id": "heHRB-rmmmcP",
    "outputId": "32a2a037-20ec-4aae-b2a9-63fb6eb9ef2c"
   },
   "outputs": [
    {
     "name": "stdout",
     "output_type": "stream",
     "text": [
      "정이삭\n",
      "{'peopleListResult': {'totCnt': 2, 'peopleList': [{'peopleCd': '20288012', 'peopleNm': '정이삭', 'peopleNmEn': '', 'repRoleNm': '배우', 'filmoNames': '파이프라인|세자매|양자물리학|조작된 도시'}, {'peopleCd': '10062125', 'peopleNm': '정이삭', 'peopleNmEn': 'Lee Isaac CHUNG', 'repRoleNm': '감독', 'filmoNames': '미나리|문유랑가보'}], 'source': '영화진흥위원회'}}\n"
     ]
    }
   ],
   "source": [
    "import requests\n",
    "import json\n",
    "\n",
    "director_name = input()\n",
    "director_list_url = 'http://kobis.or.kr/kobisopenapi/webservice/rest/people/searchPeopleList.json?key='+키+'&peopleNm='+director_name\n",
    "res = requests.get(director_list_url)\n",
    "text = res.text\n",
    "\n",
    "d = json.loads(text)\n",
    "print(d)"
   ]
  },
  {
   "cell_type": "code",
   "execution_count": 2,
   "metadata": {
    "colab": {
     "base_uri": "https://localhost:8080/",
     "height": 232
    },
    "id": "qeZS_-kPm8jg",
    "outputId": "a510db55-64dc-4f6f-c80e-1c788290fa81"
   },
   "outputs": [
    {
     "name": "stdout",
     "output_type": "stream",
     "text": [
      "10062125\n",
      "[['10062125', '정이삭', 'Lee Isaac CHUNG', '감독', ['미나리', '문유랑가보']]]\n"
     ]
    }
   ],
   "source": [
    "director_list = []\n",
    "filmo_list = []\n",
    "\n",
    "for director in d['peopleListResult']['peopleList']:\n",
    "  if director['repRoleNm'] == '감독':\n",
    "    filmo_list = director['filmoNames'].split('|')\n",
    "    director_list.append([director['peopleCd'],director['peopleNm'],director['peopleNmEn'],\n",
    "                     director['repRoleNm'],filmo_list])\n",
    "  \n",
    "\n",
    "print(director_list[0][0])\n",
    "print(director_list)"
   ]
  },
  {
   "cell_type": "code",
   "execution_count": 3,
   "metadata": {
    "id": "qQElD45Up-_H"
   },
   "outputs": [
    {
     "name": "stdout",
     "output_type": "stream",
     "text": [
      "<class 'str'>\n",
      "['미나리', '문유랑가보']\n",
      "[list(['미나리', '문유랑가보'])]\n",
      "10062125\n"
     ]
    }
   ],
   "source": [
    "import pandas as pd\n",
    "\n",
    "director_df = pd.DataFrame(director_list)\n",
    "director_df.columns = ['peopleCd','peopleNm','peopleNmEn','repRoleNm','filmoNames']\n",
    "# director_df\n",
    "print(director_df['filmoNames'].iloc[0][0].__class__)\n",
    "print(director_df['filmoNames'].iloc[0][:5])\n",
    "print(director_df['filmoNames'].values.flatten())\n",
    "# director_df['filmoNames'] = director_df['filmoNames'].astype(str)\n",
    "# print(director_df['filmoNames'].head())\n",
    "print(director_df['peopleCd'][0])"
   ]
  },
  {
   "cell_type": "markdown",
   "metadata": {
    "id": "_zzBDCkxqeBb"
   },
   "source": [
    "## 영화 코드 추출"
   ]
  },
  {
   "cell_type": "code",
   "execution_count": 4,
   "metadata": {
    "id": "Al5Jwhg5qOSG"
   },
   "outputs": [
    {
     "name": "stdout",
     "output_type": "stream",
     "text": [
      "{'peopleInfoResult': {'peopleInfo': {'peopleCd': '10062125', 'peopleNm': '정이삭', 'peopleNmEn': 'Lee Isaac CHUNG', 'sex': '남자', 'repRoleNm': '감독', 'homepages': [], 'filmos': [{'movieCd': '20205144', 'movieNm': '미나리', 'moviePartNm': '감독'}, {'movieCd': '20078788', 'movieNm': '문유랑가보', 'moviePartNm': '감독'}]}, 'source': '영화진흥위원회'}}\n",
      "[['20205144', '미나리'], ['20078788', '문유랑가보']]\n"
     ]
    }
   ],
   "source": [
    "movieCd_list = []\n",
    "for director in director_df['peopleCd']:\n",
    "  movie_url = 'http://www.kobis.or.kr/kobisopenapi/webservice/rest/people/searchPeopleInfo.json?key='+키+'&peopleCd='+director\n",
    "  res = requests.get(movie_url)\n",
    "  text = res.text\n",
    "  d = json.loads(text)\n",
    "  for movie in d['peopleInfoResult']['peopleInfo']['filmos']:\n",
    "    if movie['moviePartNm'] == '감독':\n",
    "      movieCd_list.append([movie['movieCd'], movie['movieNm']])\n",
    "  print(d)\n",
    "  print(movieCd_list)"
   ]
  },
  {
   "cell_type": "code",
   "execution_count": 5,
   "metadata": {
    "id": "ba_ZPtVYqwfV"
   },
   "outputs": [
    {
     "data": {
      "text/html": [
       "<div>\n",
       "<style scoped>\n",
       "    .dataframe tbody tr th:only-of-type {\n",
       "        vertical-align: middle;\n",
       "    }\n",
       "\n",
       "    .dataframe tbody tr th {\n",
       "        vertical-align: top;\n",
       "    }\n",
       "\n",
       "    .dataframe thead th {\n",
       "        text-align: right;\n",
       "    }\n",
       "</style>\n",
       "<table border=\"1\" class=\"dataframe\">\n",
       "  <thead>\n",
       "    <tr style=\"text-align: right;\">\n",
       "      <th></th>\n",
       "      <th>movieCd</th>\n",
       "      <th>movieNm</th>\n",
       "    </tr>\n",
       "  </thead>\n",
       "  <tbody>\n",
       "    <tr>\n",
       "      <th>0</th>\n",
       "      <td>20205144</td>\n",
       "      <td>미나리</td>\n",
       "    </tr>\n",
       "    <tr>\n",
       "      <th>1</th>\n",
       "      <td>20078788</td>\n",
       "      <td>문유랑가보</td>\n",
       "    </tr>\n",
       "  </tbody>\n",
       "</table>\n",
       "</div>"
      ],
      "text/plain": [
       "    movieCd movieNm\n",
       "0  20205144     미나리\n",
       "1  20078788   문유랑가보"
      ]
     },
     "execution_count": 5,
     "metadata": {},
     "output_type": "execute_result"
    }
   ],
   "source": [
    "movieCd_df = pd.DataFrame(movieCd_list)\n",
    "movieCd_df.columns = ['movieCd', 'movieNm']\n",
    "movieCd_df"
   ]
  },
  {
   "cell_type": "markdown",
   "metadata": {
    "id": "AgpUN1RVt6k2"
   },
   "source": [
    "## 평점 추출"
   ]
  },
  {
   "cell_type": "code",
   "execution_count": 6,
   "metadata": {
    "id": "QQN3BbGEq60A"
   },
   "outputs": [],
   "source": [
    "import os\n",
    "import sys\n",
    "import urllib.request\n",
    "from urllib.parse import quote\n",
    "import json\n",
    "import re\n",
    "import requests"
   ]
  },
  {
   "cell_type": "code",
   "execution_count": 7,
   "metadata": {
    "id": "3SiqdVL_t-ln"
   },
   "outputs": [],
   "source": [
    "client_id = your_id\n",
    "client_secret = your_pw"
   ]
  },
  {
   "cell_type": "code",
   "execution_count": 8,
   "metadata": {
    "id": "SA8tt4GcuDjw"
   },
   "outputs": [
    {
     "name": "stdout",
     "output_type": "stream",
     "text": [
      "{'lastBuildDate': 'Fri, 20 Aug 2021 14:49:23 +0900', 'total': 2, 'start': 1, 'display': 2, 'items': [{'title': '<b>미나리</b>', 'link': 'https://movie.naver.com/movie/bi/mi/basic.nhn?code=187310', 'image': 'https://ssl.pstatic.net/imgmovie/mdi/mit110/1873/187310_P20_100054.jpg', 'subtitle': 'Minari', 'pubDate': '2020', 'director': '정이삭|', 'actor': '윌 패튼|스티븐 연|한예리|윤여정|앨런 김|노엘 조|', 'userRating': '7.63'}, {'title': '고수풀과 <b>미나리</b>', 'link': 'https://movie.naver.com/movie/bi/mi/basic.nhn?code=114274', 'image': '', 'subtitle': 'Cilantro y perejil', 'pubDate': '1998', 'director': '라파엘 몬테로|', 'actor': '아셀리아 라미레즈|데미안 비쉬어|', 'userRating': '0.00'}]}\n",
      "{'lastBuildDate': 'Fri, 20 Aug 2021 14:49:23 +0900', 'total': 1, 'start': 1, 'display': 1, 'items': [{'title': '무뉴랑가보', 'link': 'https://movie.naver.com/movie/bi/mi/basic.nhn?code=67815', 'image': 'https://ssl.pstatic.net/imgmovie/mdi/mit110/0678/67815_P13_194719.jpg', 'subtitle': 'Munyurangabo', 'pubDate': '2007', 'director': '정이삭|', 'actor': '', 'userRating': '9.00'}]}\n",
      "[{'lastBuildDate': 'Fri, 20 Aug 2021 14:49:23 +0900', 'total': 2, 'start': 1, 'display': 2, 'items': [{'title': '<b>미나리</b>', 'link': 'https://movie.naver.com/movie/bi/mi/basic.nhn?code=187310', 'image': 'https://ssl.pstatic.net/imgmovie/mdi/mit110/1873/187310_P20_100054.jpg', 'subtitle': 'Minari', 'pubDate': '2020', 'director': '정이삭|', 'actor': '윌 패튼|스티븐 연|한예리|윤여정|앨런 김|노엘 조|', 'userRating': '7.63'}, {'title': '고수풀과 <b>미나리</b>', 'link': 'https://movie.naver.com/movie/bi/mi/basic.nhn?code=114274', 'image': '', 'subtitle': 'Cilantro y perejil', 'pubDate': '1998', 'director': '라파엘 몬테로|', 'actor': '아셀리아 라미레즈|데미안 비쉬어|', 'userRating': '0.00'}]}, {'lastBuildDate': 'Fri, 20 Aug 2021 14:49:23 +0900', 'total': 1, 'start': 1, 'display': 1, 'items': [{'title': '무뉴랑가보', 'link': 'https://movie.naver.com/movie/bi/mi/basic.nhn?code=67815', 'image': 'https://ssl.pstatic.net/imgmovie/mdi/mit110/0678/67815_P13_194719.jpg', 'subtitle': 'Munyurangabo', 'pubDate': '2007', 'director': '정이삭|', 'actor': '', 'userRating': '9.00'}]}]\n"
     ]
    }
   ],
   "source": [
    "film_list = []\n",
    "for movieNm in movieCd_df['movieNm']:\n",
    "  encText = urllib.parse.quote(movieNm)\n",
    "  url = \"https://openapi.naver.com/v1/search/movie.json?query=\" + encText + \"&display=100\" # json 결과\n",
    "  request = urllib.request.Request(url)\n",
    "  request.add_header(\"X-Naver-Client-Id\",client_id)\n",
    "  request.add_header(\"X-Naver-Client-Secret\",client_secret)\n",
    "  response = urllib.request.urlopen(request)\n",
    "  rescode = response.getcode()\n",
    "  if(rescode==200):\n",
    "    response_body = json.load(response)\n",
    "    film_list.append(response_body)\n",
    "    print(response_body)\n",
    "  else:\n",
    "    print(\"Error Code:\" + rescode)\n",
    "\n",
    "print(film_list)"
   ]
  },
  {
   "cell_type": "code",
   "execution_count": 9,
   "metadata": {
    "id": "LBeqKa6ocmJt"
   },
   "outputs": [
    {
     "name": "stdout",
     "output_type": "stream",
     "text": [
      "<class 'dict'>\n"
     ]
    }
   ],
   "source": [
    "print(type(film_list[0]))"
   ]
  },
  {
   "cell_type": "code",
   "execution_count": 10,
   "metadata": {
    "id": "ydwx2gXDcut6"
   },
   "outputs": [
    {
     "data": {
      "text/html": [
       "<div>\n",
       "<style scoped>\n",
       "    .dataframe tbody tr th:only-of-type {\n",
       "        vertical-align: middle;\n",
       "    }\n",
       "\n",
       "    .dataframe tbody tr th {\n",
       "        vertical-align: top;\n",
       "    }\n",
       "\n",
       "    .dataframe thead th {\n",
       "        text-align: right;\n",
       "    }\n",
       "</style>\n",
       "<table border=\"1\" class=\"dataframe\">\n",
       "  <thead>\n",
       "    <tr style=\"text-align: right;\">\n",
       "      <th></th>\n",
       "      <th>lastBuildDate</th>\n",
       "      <th>total</th>\n",
       "      <th>start</th>\n",
       "      <th>display</th>\n",
       "      <th>items</th>\n",
       "    </tr>\n",
       "  </thead>\n",
       "  <tbody>\n",
       "    <tr>\n",
       "      <th>0</th>\n",
       "      <td>Fri, 20 Aug 2021 14:49:23 +0900</td>\n",
       "      <td>2</td>\n",
       "      <td>1</td>\n",
       "      <td>2</td>\n",
       "      <td>[{'title': '&lt;b&gt;미나리&lt;/b&gt;', 'link': 'https://movi...</td>\n",
       "    </tr>\n",
       "    <tr>\n",
       "      <th>1</th>\n",
       "      <td>Fri, 20 Aug 2021 14:49:23 +0900</td>\n",
       "      <td>1</td>\n",
       "      <td>1</td>\n",
       "      <td>1</td>\n",
       "      <td>[{'title': '무뉴랑가보', 'link': 'https://movie.nav...</td>\n",
       "    </tr>\n",
       "  </tbody>\n",
       "</table>\n",
       "</div>"
      ],
      "text/plain": [
       "                     lastBuildDate  total  start  display  \\\n",
       "0  Fri, 20 Aug 2021 14:49:23 +0900      2      1        2   \n",
       "1  Fri, 20 Aug 2021 14:49:23 +0900      1      1        1   \n",
       "\n",
       "                                               items  \n",
       "0  [{'title': '<b>미나리</b>', 'link': 'https://movi...  \n",
       "1  [{'title': '무뉴랑가보', 'link': 'https://movie.nav...  "
      ]
     },
     "execution_count": 10,
     "metadata": {},
     "output_type": "execute_result"
    }
   ],
   "source": [
    "film_df = pd.DataFrame(film_list)\n",
    "film_df"
   ]
  },
  {
   "cell_type": "code",
   "execution_count": 11,
   "metadata": {
    "id": "W-9LOR1Acxqh"
   },
   "outputs": [
    {
     "data": {
      "text/html": [
       "<div>\n",
       "<style scoped>\n",
       "    .dataframe tbody tr th:only-of-type {\n",
       "        vertical-align: middle;\n",
       "    }\n",
       "\n",
       "    .dataframe tbody tr th {\n",
       "        vertical-align: top;\n",
       "    }\n",
       "\n",
       "    .dataframe thead th {\n",
       "        text-align: right;\n",
       "    }\n",
       "</style>\n",
       "<table border=\"1\" class=\"dataframe\">\n",
       "  <thead>\n",
       "    <tr style=\"text-align: right;\">\n",
       "      <th></th>\n",
       "      <th>lastBuildDate</th>\n",
       "      <th>total</th>\n",
       "      <th>start</th>\n",
       "      <th>display</th>\n",
       "      <th>items</th>\n",
       "    </tr>\n",
       "  </thead>\n",
       "  <tbody>\n",
       "    <tr>\n",
       "      <th>0</th>\n",
       "      <td>Fri, 20 Aug 2021 14:49:23 +0900</td>\n",
       "      <td>2</td>\n",
       "      <td>1</td>\n",
       "      <td>2</td>\n",
       "      <td>[{'title': '&lt;b&gt;미나리&lt;/b&gt;', 'link': 'https://movi...</td>\n",
       "    </tr>\n",
       "    <tr>\n",
       "      <th>1</th>\n",
       "      <td>Fri, 20 Aug 2021 14:49:23 +0900</td>\n",
       "      <td>1</td>\n",
       "      <td>1</td>\n",
       "      <td>1</td>\n",
       "      <td>[{'title': '무뉴랑가보', 'link': 'https://movie.nav...</td>\n",
       "    </tr>\n",
       "  </tbody>\n",
       "</table>\n",
       "</div>"
      ],
      "text/plain": [
       "                     lastBuildDate  total  start  display  \\\n",
       "0  Fri, 20 Aug 2021 14:49:23 +0900      2      1        2   \n",
       "1  Fri, 20 Aug 2021 14:49:23 +0900      1      1        1   \n",
       "\n",
       "                                               items  \n",
       "0  [{'title': '<b>미나리</b>', 'link': 'https://movi...  \n",
       "1  [{'title': '무뉴랑가보', 'link': 'https://movie.nav...  "
      ]
     },
     "execution_count": 11,
     "metadata": {},
     "output_type": "execute_result"
    }
   ],
   "source": [
    "film_df.astype({'display': int})"
   ]
  },
  {
   "cell_type": "code",
   "execution_count": 12,
   "metadata": {
    "id": "2lyoiTWxdFyt"
   },
   "outputs": [
    {
     "data": {
      "text/plain": [
       "[['미나리',\n",
       "  'https://movie.naver.com/movie/bi/mi/basic.nhn?code=187310',\n",
       "  'https://ssl.pstatic.net/imgmovie/mdi/mit110/1873/187310_P20_100054.jpg',\n",
       "  'Minari',\n",
       "  '2020',\n",
       "  '정이삭|',\n",
       "  '윌 패튼|스티븐 연|한예리|윤여정|앨런 김|노엘 조|',\n",
       "  '7.63'],\n",
       " ['무뉴랑가보',\n",
       "  'https://movie.naver.com/movie/bi/mi/basic.nhn?code=67815',\n",
       "  'https://ssl.pstatic.net/imgmovie/mdi/mit110/0678/67815_P13_194719.jpg',\n",
       "  'Munyurangabo',\n",
       "  '2007',\n",
       "  '정이삭|',\n",
       "  '',\n",
       "  '9.00']]"
      ]
     },
     "execution_count": 12,
     "metadata": {},
     "output_type": "execute_result"
    }
   ],
   "source": [
    "rating_list = []\n",
    "\n",
    "for i in range(film_df.shape[0]):\n",
    "  for j in range(film_df['display'][i]):\n",
    "    if director_name in film_df['items'][i][j]['director']:\n",
    "      rating_list.append([film_df['items'][i][j]['title'].replace(\"<b>\",\"\").replace(\"</b>\",\"\"),film_df['items'][i][j]['link'],film_df['items'][i][j]['image'],\n",
    "                          film_df['items'][i][j]['subtitle'].replace(\"<b>\",\"\").replace(\"</b>\",\"\"),\n",
    "                          film_df['items'][i][j]['pubDate'],film_df['items'][i][j]['director'],film_df['items'][i][j]['actor'],film_df['items'][i][j]['userRating']])\n",
    "\n",
    "rating_list"
   ]
  },
  {
   "cell_type": "code",
   "execution_count": 13,
   "metadata": {
    "id": "ifWbFMw2dwt4"
   },
   "outputs": [],
   "source": [
    "rating_df = pd.DataFrame(rating_list)\n",
    "rating_df.columns=['movieNm','link','image','submovieNm','pubDate','director','actor','userRating']\n",
    "rating_df = rating_df.drop_duplicates(['movieNm'], keep='first', ignore_index=True)\n",
    "rating_df_sorted = rating_df.sort_values(by=['userRating'], axis=0, ascending=False)"
   ]
  },
  {
   "cell_type": "code",
   "execution_count": 14,
   "metadata": {
    "id": "00KL8zMffZz0"
   },
   "outputs": [
    {
     "data": {
      "text/html": [
       "<div>\n",
       "<style scoped>\n",
       "    .dataframe tbody tr th:only-of-type {\n",
       "        vertical-align: middle;\n",
       "    }\n",
       "\n",
       "    .dataframe tbody tr th {\n",
       "        vertical-align: top;\n",
       "    }\n",
       "\n",
       "    .dataframe thead th {\n",
       "        text-align: right;\n",
       "    }\n",
       "</style>\n",
       "<table border=\"1\" class=\"dataframe\">\n",
       "  <thead>\n",
       "    <tr style=\"text-align: right;\">\n",
       "      <th></th>\n",
       "      <th>movieNm</th>\n",
       "      <th>link</th>\n",
       "      <th>image</th>\n",
       "      <th>submovieNm</th>\n",
       "      <th>pubDate</th>\n",
       "      <th>director</th>\n",
       "      <th>actor</th>\n",
       "      <th>userRating</th>\n",
       "    </tr>\n",
       "  </thead>\n",
       "  <tbody>\n",
       "    <tr>\n",
       "      <th>0</th>\n",
       "      <td>미나리</td>\n",
       "      <td>https://movie.naver.com/movie/bi/mi/basic.nhn?...</td>\n",
       "      <td>https://ssl.pstatic.net/imgmovie/mdi/mit110/18...</td>\n",
       "      <td>Minari</td>\n",
       "      <td>2020</td>\n",
       "      <td>정이삭|</td>\n",
       "      <td>윌 패튼|스티븐 연|한예리|윤여정|앨런 김|노엘 조|</td>\n",
       "      <td>7.63</td>\n",
       "    </tr>\n",
       "    <tr>\n",
       "      <th>1</th>\n",
       "      <td>무뉴랑가보</td>\n",
       "      <td>https://movie.naver.com/movie/bi/mi/basic.nhn?...</td>\n",
       "      <td>https://ssl.pstatic.net/imgmovie/mdi/mit110/06...</td>\n",
       "      <td>Munyurangabo</td>\n",
       "      <td>2007</td>\n",
       "      <td>정이삭|</td>\n",
       "      <td></td>\n",
       "      <td>9.00</td>\n",
       "    </tr>\n",
       "  </tbody>\n",
       "</table>\n",
       "</div>"
      ],
      "text/plain": [
       "  movieNm                                               link  \\\n",
       "0     미나리  https://movie.naver.com/movie/bi/mi/basic.nhn?...   \n",
       "1   무뉴랑가보  https://movie.naver.com/movie/bi/mi/basic.nhn?...   \n",
       "\n",
       "                                               image    submovieNm pubDate  \\\n",
       "0  https://ssl.pstatic.net/imgmovie/mdi/mit110/18...        Minari    2020   \n",
       "1  https://ssl.pstatic.net/imgmovie/mdi/mit110/06...  Munyurangabo    2007   \n",
       "\n",
       "  director                          actor userRating  \n",
       "0     정이삭|  윌 패튼|스티븐 연|한예리|윤여정|앨런 김|노엘 조|       7.63  \n",
       "1     정이삭|                                      9.00  "
      ]
     },
     "execution_count": 14,
     "metadata": {},
     "output_type": "execute_result"
    }
   ],
   "source": [
    "rating_df"
   ]
  },
  {
   "cell_type": "code",
   "execution_count": 15,
   "metadata": {
    "id": "x9hNHITEf015"
   },
   "outputs": [
    {
     "data": {
      "text/html": [
       "<div>\n",
       "<style scoped>\n",
       "    .dataframe tbody tr th:only-of-type {\n",
       "        vertical-align: middle;\n",
       "    }\n",
       "\n",
       "    .dataframe tbody tr th {\n",
       "        vertical-align: top;\n",
       "    }\n",
       "\n",
       "    .dataframe thead th {\n",
       "        text-align: right;\n",
       "    }\n",
       "</style>\n",
       "<table border=\"1\" class=\"dataframe\">\n",
       "  <thead>\n",
       "    <tr style=\"text-align: right;\">\n",
       "      <th></th>\n",
       "      <th>movieNm</th>\n",
       "      <th>link</th>\n",
       "      <th>image</th>\n",
       "      <th>submovieNm</th>\n",
       "      <th>pubDate</th>\n",
       "      <th>director</th>\n",
       "      <th>actor</th>\n",
       "      <th>userRating</th>\n",
       "    </tr>\n",
       "  </thead>\n",
       "  <tbody>\n",
       "    <tr>\n",
       "      <th>1</th>\n",
       "      <td>무뉴랑가보</td>\n",
       "      <td>https://movie.naver.com/movie/bi/mi/basic.nhn?...</td>\n",
       "      <td>https://ssl.pstatic.net/imgmovie/mdi/mit110/06...</td>\n",
       "      <td>Munyurangabo</td>\n",
       "      <td>2007</td>\n",
       "      <td>정이삭|</td>\n",
       "      <td></td>\n",
       "      <td>9.00</td>\n",
       "    </tr>\n",
       "    <tr>\n",
       "      <th>0</th>\n",
       "      <td>미나리</td>\n",
       "      <td>https://movie.naver.com/movie/bi/mi/basic.nhn?...</td>\n",
       "      <td>https://ssl.pstatic.net/imgmovie/mdi/mit110/18...</td>\n",
       "      <td>Minari</td>\n",
       "      <td>2020</td>\n",
       "      <td>정이삭|</td>\n",
       "      <td>윌 패튼|스티븐 연|한예리|윤여정|앨런 김|노엘 조|</td>\n",
       "      <td>7.63</td>\n",
       "    </tr>\n",
       "  </tbody>\n",
       "</table>\n",
       "</div>"
      ],
      "text/plain": [
       "  movieNm                                               link  \\\n",
       "1   무뉴랑가보  https://movie.naver.com/movie/bi/mi/basic.nhn?...   \n",
       "0     미나리  https://movie.naver.com/movie/bi/mi/basic.nhn?...   \n",
       "\n",
       "                                               image    submovieNm pubDate  \\\n",
       "1  https://ssl.pstatic.net/imgmovie/mdi/mit110/06...  Munyurangabo    2007   \n",
       "0  https://ssl.pstatic.net/imgmovie/mdi/mit110/18...        Minari    2020   \n",
       "\n",
       "  director                          actor userRating  \n",
       "1     정이삭|                                      9.00  \n",
       "0     정이삭|  윌 패튼|스티븐 연|한예리|윤여정|앨런 김|노엘 조|       7.63  "
      ]
     },
     "execution_count": 15,
     "metadata": {},
     "output_type": "execute_result"
    }
   ],
   "source": [
    "rating_df_sorted"
   ]
  },
  {
   "cell_type": "code",
   "execution_count": 16,
   "metadata": {
    "id": "DmBlzRCpgA6o"
   },
   "outputs": [
    {
     "name": "stdout",
     "output_type": "stream",
     "text": [
      "[['무뉴랑가보', 'https://movie.naver.com/movie/bi/mi/basic.nhn?code=67815', 'https://ssl.pstatic.net/imgmovie/mdi/mit110/0678/67815_P13_194719.jpg', 'Munyurangabo', '2007', '정이삭|', '', '9.00'], ['미나리', 'https://movie.naver.com/movie/bi/mi/basic.nhn?code=187310', 'https://ssl.pstatic.net/imgmovie/mdi/mit110/1873/187310_P20_100054.jpg', 'Minari', '2020', '정이삭|', '윌 패튼|스티븐 연|한예리|윤여정|앨런 김|노엘 조|', '7.63']]\n",
      "2\n"
     ]
    }
   ],
   "source": [
    "final_recommendation = rating_df_sorted.head(5)\n",
    "final_recommendation\n",
    "final_list = final_recommendation.values.tolist()\n",
    "print(final_list)\n",
    "print(len(final_list))"
   ]
  },
  {
   "cell_type": "code",
   "execution_count": null,
   "metadata": {
    "id": "vVx-oPOgWcIX"
   },
   "outputs": [],
   "source": []
  }
 ],
 "metadata": {
  "colab": {
   "collapsed_sections": [],
   "name": "recommend_by_director.ipynb의 사본",
   "provenance": []
  },
  "kernelspec": {
   "display_name": "Python 3",
   "language": "python",
   "name": "python3"
  },
  "language_info": {
   "codemirror_mode": {
    "name": "ipython",
    "version": 3
   },
   "file_extension": ".py",
   "mimetype": "text/x-python",
   "name": "python",
   "nbconvert_exporter": "python",
   "pygments_lexer": "ipython3",
   "version": "3.8.5"
  }
 },
 "nbformat": 4,
 "nbformat_minor": 1
}
