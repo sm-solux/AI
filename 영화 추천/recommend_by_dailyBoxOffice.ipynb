{
 "cells": [
  {
   "cell_type": "code",
   "execution_count": 25,
   "metadata": {},
   "outputs": [],
   "source": [
    "import json\n",
    "import requests\n",
    "import pandas as pd"
   ]
  },
  {
   "cell_type": "code",
   "execution_count": 26,
   "metadata": {},
   "outputs": [
    {
     "name": "stdout",
     "output_type": "stream",
     "text": [
      "조회하고 싶은 날짜를 입력하세요(ex. 20200202): \n",
      "20200820\n"
     ]
    }
   ],
   "source": [
    "print(\"조회하고 싶은 날짜를 입력하세요(ex. 20200202): \")\n",
    "date = input()"
   ]
  },
  {
   "cell_type": "code",
   "execution_count": 27,
   "metadata": {},
   "outputs": [
    {
     "data": {
      "text/plain": [
       "[['1', '다만 악에서 구하소서', 'OLD', '3924601'],\n",
       " ['2', '오케이 마담', 'OLD', '1030491'],\n",
       " ['3', '극장판 짱구는 못말려: 신혼여행 허리케인~ 사라진 아빠!', 'OLD', '13109'],\n",
       " ['4', '강철비2: 정상회담', 'OLD', '1761674'],\n",
       " ['5', '남매의 여름밤', 'NEW', '4688'],\n",
       " ['6', '반도', 'OLD', '3797765'],\n",
       " ['7', '메멘토', 'OLD', '35357'],\n",
       " ['8', '나의 소녀시대', 'OLD', '415527'],\n",
       " ['9', '시크릿 가든', 'OLD', '3628'],\n",
       " ['10', '극장판 시로바코', 'NEW', '1133']]"
      ]
     },
     "execution_count": 27,
     "metadata": {},
     "output_type": "execute_result"
    }
   ],
   "source": [
    "daily_movie=[]\n",
    "date_url = 'http://kobis.or.kr/kobisopenapi/webservice/rest/boxoffice/searchDailyBoxOfficeList.json?key='+키+'&targetDt='+date\n",
    "res = requests.get(date_url)\n",
    "text = res.text\n",
    "d = json.loads(text)\n",
    "\n",
    "for item in d['boxOfficeResult']['dailyBoxOfficeList']:\n",
    "    daily_movie.append([item['rank'], item['movieNm'], item['rankOldAndNew'], item['audiAcc']])\n",
    "daily_movie"
   ]
  },
  {
   "cell_type": "code",
   "execution_count": 28,
   "metadata": {},
   "outputs": [
    {
     "data": {
      "text/html": [
       "<div>\n",
       "<style scoped>\n",
       "    .dataframe tbody tr th:only-of-type {\n",
       "        vertical-align: middle;\n",
       "    }\n",
       "\n",
       "    .dataframe tbody tr th {\n",
       "        vertical-align: top;\n",
       "    }\n",
       "\n",
       "    .dataframe thead th {\n",
       "        text-align: right;\n",
       "    }\n",
       "</style>\n",
       "<table border=\"1\" class=\"dataframe\">\n",
       "  <thead>\n",
       "    <tr style=\"text-align: right;\">\n",
       "      <th></th>\n",
       "      <th>rank</th>\n",
       "      <th>movieNm</th>\n",
       "      <th>old/new</th>\n",
       "      <th>누적 관객수</th>\n",
       "    </tr>\n",
       "  </thead>\n",
       "  <tbody>\n",
       "    <tr>\n",
       "      <th>0</th>\n",
       "      <td>1</td>\n",
       "      <td>다만 악에서 구하소서</td>\n",
       "      <td>OLD</td>\n",
       "      <td>3924601</td>\n",
       "    </tr>\n",
       "    <tr>\n",
       "      <th>1</th>\n",
       "      <td>2</td>\n",
       "      <td>오케이 마담</td>\n",
       "      <td>OLD</td>\n",
       "      <td>1030491</td>\n",
       "    </tr>\n",
       "    <tr>\n",
       "      <th>2</th>\n",
       "      <td>3</td>\n",
       "      <td>극장판 짱구는 못말려: 신혼여행 허리케인~ 사라진 아빠!</td>\n",
       "      <td>OLD</td>\n",
       "      <td>13109</td>\n",
       "    </tr>\n",
       "    <tr>\n",
       "      <th>3</th>\n",
       "      <td>4</td>\n",
       "      <td>강철비2: 정상회담</td>\n",
       "      <td>OLD</td>\n",
       "      <td>1761674</td>\n",
       "    </tr>\n",
       "    <tr>\n",
       "      <th>4</th>\n",
       "      <td>5</td>\n",
       "      <td>남매의 여름밤</td>\n",
       "      <td>NEW</td>\n",
       "      <td>4688</td>\n",
       "    </tr>\n",
       "    <tr>\n",
       "      <th>5</th>\n",
       "      <td>6</td>\n",
       "      <td>반도</td>\n",
       "      <td>OLD</td>\n",
       "      <td>3797765</td>\n",
       "    </tr>\n",
       "    <tr>\n",
       "      <th>6</th>\n",
       "      <td>7</td>\n",
       "      <td>메멘토</td>\n",
       "      <td>OLD</td>\n",
       "      <td>35357</td>\n",
       "    </tr>\n",
       "    <tr>\n",
       "      <th>7</th>\n",
       "      <td>8</td>\n",
       "      <td>나의 소녀시대</td>\n",
       "      <td>OLD</td>\n",
       "      <td>415527</td>\n",
       "    </tr>\n",
       "    <tr>\n",
       "      <th>8</th>\n",
       "      <td>9</td>\n",
       "      <td>시크릿 가든</td>\n",
       "      <td>OLD</td>\n",
       "      <td>3628</td>\n",
       "    </tr>\n",
       "    <tr>\n",
       "      <th>9</th>\n",
       "      <td>10</td>\n",
       "      <td>극장판 시로바코</td>\n",
       "      <td>NEW</td>\n",
       "      <td>1133</td>\n",
       "    </tr>\n",
       "  </tbody>\n",
       "</table>\n",
       "</div>"
      ],
      "text/plain": [
       "  rank                          movieNm old/new   누적 관객수\n",
       "0    1                      다만 악에서 구하소서     OLD  3924601\n",
       "1    2                           오케이 마담     OLD  1030491\n",
       "2    3  극장판 짱구는 못말려: 신혼여행 허리케인~ 사라진 아빠!     OLD    13109\n",
       "3    4                       강철비2: 정상회담     OLD  1761674\n",
       "4    5                          남매의 여름밤     NEW     4688\n",
       "5    6                               반도     OLD  3797765\n",
       "6    7                              메멘토     OLD    35357\n",
       "7    8                          나의 소녀시대     OLD   415527\n",
       "8    9                           시크릿 가든     OLD     3628\n",
       "9   10                         극장판 시로바코     NEW     1133"
      ]
     },
     "execution_count": 28,
     "metadata": {},
     "output_type": "execute_result"
    }
   ],
   "source": [
    "boxoffice=pd.DataFrame(daily_movie)\n",
    "boxoffice.columns=['rank', 'movieNm', 'old/new', '누적 관객수']\n",
    "boxoffice"
   ]
  },
  {
   "cell_type": "code",
   "execution_count": null,
   "metadata": {},
   "outputs": [],
   "source": []
  }
 ],
 "metadata": {
  "kernelspec": {
   "display_name": "Python 3",
   "language": "python",
   "name": "python3"
  },
  "language_info": {
   "codemirror_mode": {
    "name": "ipython",
    "version": 3
   },
   "file_extension": ".py",
   "mimetype": "text/x-python",
   "name": "python",
   "nbconvert_exporter": "python",
   "pygments_lexer": "ipython3",
   "version": "3.8.5"
  }
 },
 "nbformat": 4,
 "nbformat_minor": 4
}
