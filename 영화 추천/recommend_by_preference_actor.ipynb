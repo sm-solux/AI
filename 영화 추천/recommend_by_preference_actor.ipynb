{
  "nbformat": 4,
  "nbformat_minor": 0,
  "metadata": {
    "colab": {
      "name": "recommend_by_preference_actor2.ipynb",
      "provenance": [],
      "collapsed_sections": []
    },
    "kernelspec": {
      "name": "python3",
      "display_name": "Python 3"
    },
    "language_info": {
      "name": "python"
    }
  },
  "cells": [
    {
      "cell_type": "markdown",
      "metadata": {
        "id": "KmVnwWbK8Hra"
      },
      "source": [
        "## 영화 5개 입력받기"
      ]
    },
    {
      "cell_type": "code",
      "metadata": {
        "colab": {
          "base_uri": "https://localhost:8080/"
        },
        "id": "PetcT8gO73Pl",
        "outputId": "0bb64965-aeb3-479a-e0f3-fc0c74c5e4d1"
      },
      "source": [
        "print(\"좋아하는 영화 5개를 입력해주세요(예: 명량 2014, 기생충 2019, ...): \")\n",
        "movie_list = input().split(\", \")\n",
        "print(movie_list)"
      ],
      "execution_count": null,
      "outputs": [
        {
          "output_type": "stream",
          "text": [
            "좋아하는 영화 5개를 입력해주세요(예: 명량 2014, 기생충 2019, ...): \n",
            "모가디슈 2021, 천문 2019, 라라랜드 2016, 크루엘라 2021, 블랙 위도우 2021\n",
            "['모가디슈 2021', '천문 2019', '라라랜드 2016', '크루엘라 2021', '블랙 위도우 2021']\n"
          ],
          "name": "stdout"
        }
      ]
    },
    {
      "cell_type": "markdown",
      "metadata": {
        "id": "v51SNg4h-KF_"
      },
      "source": [
        "## 영화별 출연진 정보 가져오기"
      ]
    },
    {
      "cell_type": "markdown",
      "metadata": {
        "id": "lqEXLqBq_-Lo"
      },
      "source": [
        "영화 목록에서 영화코드 추출"
      ]
    },
    {
      "cell_type": "code",
      "metadata": {
        "id": "_lX0V_AKAZCx"
      },
      "source": [
        "import requests\n",
        "import json"
      ],
      "execution_count": null,
      "outputs": []
    },
    {
      "cell_type": "code",
      "metadata": {
        "colab": {
          "base_uri": "https://localhost:8080/"
        },
        "id": "kVyHImeY9rW0",
        "outputId": "a662bb5f-fc1c-4959-bcf2-0d3a420debef"
      },
      "source": [
        "movie_cd_list = []\n",
        "director_list = []\n",
        "selected_movie_list = []\n",
        "yourcode = # 영화진흥원 api 키를 입력하세요\n",
        "for movie in movie_list:\n",
        "  movie_cd_url = 'https://www.kobis.or.kr/kobisopenapi/webservice/rest/movie/searchMovieList.json?key='+yourcode+'&movieNm='+movie[:-5]\n",
        "  res = requests.get(movie_cd_url)\n",
        "  text = res.text\n",
        "  d = json.loads(text)\n",
        "  if d['movieListResult']['totCnt'] > 1:    # 동명의 영화가 있을 경우\n",
        "    item_year = movie[-4:]   # 개봉연도로 구분\n",
        "    for item in d['movieListResult']['movieList']:\n",
        "      if item_year == item['openDt'][:4]:\n",
        "          # director_list = director['peopleNm']\n",
        "        movie_cd_list.append([item['movieCd'],\n",
        "                              item['movieNm'],\n",
        "                              item['openDt'][:4]])\n",
        "        selected_movie_list.append(item['movieNm'])\n",
        "  if d['movieListResult']['totCnt'] == 1:\n",
        "    for item in d['movieListResult']['movieList']:\n",
        "      movie_cd_list.append([item['movieCd'],\n",
        "                            item['movieNm'],\n",
        "                            item['openDt'][:4]])\n",
        "      selected_movie_list.append(item['movieNm'])\n",
        "  \n",
        "print(movie_cd_list)\n",
        "print(selected_movie_list)"
      ],
      "execution_count": null,
      "outputs": [
        {
          "output_type": "stream",
          "text": [
            "[['20204117', '모가디슈', '2021'], ['20184571', '천문: 하늘에 묻는다', '2019'], ['20167904', '라라랜드', '2016'], ['20216362', '크루엘라', '2021'], ['20191951', '블랙 위도우', '2021']]\n",
            "['모가디슈', '천문: 하늘에 묻는다', '라라랜드', '크루엘라', '블랙 위도우']\n"
          ],
          "name": "stdout"
        }
      ]
    },
    {
      "cell_type": "code",
      "metadata": {
        "colab": {
          "base_uri": "https://localhost:8080/",
          "height": 203
        },
        "id": "GOvFd3dABDd5",
        "outputId": "12aa6cf7-5353-4e44-c4b8-bd44cede59fd"
      },
      "source": [
        "import pandas as pd\n",
        "\n",
        "movie_cdlist_df = pd.DataFrame(movie_cd_list)\n",
        "movie_cdlist_df.columns = ['movieCd', 'movieNm','openYr']\n",
        "movie_cdlist_df"
      ],
      "execution_count": null,
      "outputs": [
        {
          "output_type": "execute_result",
          "data": {
            "text/html": [
              "<div>\n",
              "<style scoped>\n",
              "    .dataframe tbody tr th:only-of-type {\n",
              "        vertical-align: middle;\n",
              "    }\n",
              "\n",
              "    .dataframe tbody tr th {\n",
              "        vertical-align: top;\n",
              "    }\n",
              "\n",
              "    .dataframe thead th {\n",
              "        text-align: right;\n",
              "    }\n",
              "</style>\n",
              "<table border=\"1\" class=\"dataframe\">\n",
              "  <thead>\n",
              "    <tr style=\"text-align: right;\">\n",
              "      <th></th>\n",
              "      <th>movieCd</th>\n",
              "      <th>movieNm</th>\n",
              "      <th>openYr</th>\n",
              "    </tr>\n",
              "  </thead>\n",
              "  <tbody>\n",
              "    <tr>\n",
              "      <th>0</th>\n",
              "      <td>20204117</td>\n",
              "      <td>모가디슈</td>\n",
              "      <td>2021</td>\n",
              "    </tr>\n",
              "    <tr>\n",
              "      <th>1</th>\n",
              "      <td>20184571</td>\n",
              "      <td>천문: 하늘에 묻는다</td>\n",
              "      <td>2019</td>\n",
              "    </tr>\n",
              "    <tr>\n",
              "      <th>2</th>\n",
              "      <td>20167904</td>\n",
              "      <td>라라랜드</td>\n",
              "      <td>2016</td>\n",
              "    </tr>\n",
              "    <tr>\n",
              "      <th>3</th>\n",
              "      <td>20216362</td>\n",
              "      <td>크루엘라</td>\n",
              "      <td>2021</td>\n",
              "    </tr>\n",
              "    <tr>\n",
              "      <th>4</th>\n",
              "      <td>20191951</td>\n",
              "      <td>블랙 위도우</td>\n",
              "      <td>2021</td>\n",
              "    </tr>\n",
              "  </tbody>\n",
              "</table>\n",
              "</div>"
            ],
            "text/plain": [
              "    movieCd      movieNm openYr\n",
              "0  20204117         모가디슈   2021\n",
              "1  20184571  천문: 하늘에 묻는다   2019\n",
              "2  20167904         라라랜드   2016\n",
              "3  20216362         크루엘라   2021\n",
              "4  20191951       블랙 위도우   2021"
            ]
          },
          "metadata": {},
          "execution_count": 4
        }
      ]
    },
    {
      "cell_type": "markdown",
      "metadata": {
        "id": "5INiutQwrCa8"
      },
      "source": [
        "영화코드로 배우추출"
      ]
    },
    {
      "cell_type": "code",
      "metadata": {
        "id": "F3P5PO8PBa5G",
        "colab": {
          "base_uri": "https://localhost:8080/"
        },
        "outputId": "3e35c4d4-c03b-441f-eb34-b5cf12d86d3e"
      },
      "source": [
        "movie_detail_list = []\n",
        "movie_director_list = []\n",
        "movie_cast_list = []    # 한 영화당 최대 10명의 배우를 추출하여 저장한 리스트\n",
        "direct_list = []\n",
        "movie_mainactor_list = []    # 한 영화당 최대 2명(주인공)의 배우를 추출하여 저장한 리스트\n",
        "actor_list = []              # 5개 영화의 movie_cast_list을 모은 것\n",
        "mainactor_list = []          # 5개 영화의 movie_mainactor_list을 모은 것\n",
        "movie_actor_list = [[] for i in range(0,5)]\n",
        "movie_direc_list = [[] for i in range(0,5)]\n",
        "j=0\n",
        "\n",
        "for movieCd in movie_cdlist_df['movieCd']:\n",
        "  movie_director_list.clear()\n",
        "  movie_cast_list.clear()\n",
        "  movie_mainactor_list.clear()\n",
        "  actor_list_url = 'https://www.kobis.or.kr/kobisopenapi/webservice/rest/movie/searchMovieInfo.json?key='+yourcode+'&movieCd='+movieCd\n",
        "  res = requests.get(actor_list_url)\n",
        "  text = res.text\n",
        "  d = json.loads(text)\n",
        "\n",
        "  for direc in d['movieInfoResult']['movieInfo']['directors']:\n",
        "    movie_director_list.append(direc['peopleNm'])\n",
        "  direct_list+=movie_director_list\n",
        "\n",
        "  for cast in d['movieInfoResult']['movieInfo']['actors']:\n",
        "    if len(movie_mainactor_list) < 2:\n",
        "      movie_mainactor_list.append(cast['peopleNm'])\n",
        "    if len(movie_cast_list) <= 9:\n",
        "      movie_cast_list.append(cast['peopleNm'])\n",
        "  #print(movie_cast_list)\n",
        "  actor_list += movie_cast_list\n",
        "  mainactor_list += movie_mainactor_list\n",
        "\n",
        "  j+=1\n",
        "\n",
        "print(direct_list)\n",
        "print(actor_list)\n",
        "print(mainactor_list)"
      ],
      "execution_count": null,
      "outputs": [
        {
          "output_type": "stream",
          "text": [
            "['류승완', '허진호', '데이미언 셔젤', '크레이그 질레스피', '케이트 쇼트랜드']\n",
            "['김윤석', '조인성', '허준호', '구교환', '김소진', '정만식', '김재화', '박경혜', '박명신', '한철우', '최민식', '한석규', '신구', '김홍파', '허준호', '김태우', '김원해', '임원희', '오광록', '박성훈', '엠마 스톤', '라이언 고슬링', '핀 위트록', 'J.K. 시몬스', '로즈마리 드윗', '엠마 스톤', '엠마 톰슨', '마크 스트롱', '스칼렛 요한슨', '플로렌스 퓨', '레이첼 와이즈', '데이빗 하버']\n",
            "['김윤석', '조인성', '최민식', '한석규', '엠마 스톤', '라이언 고슬링', '엠마 스톤', '엠마 톰슨', '스칼렛 요한슨', '플로렌스 퓨']\n"
          ],
          "name": "stdout"
        }
      ]
    },
    {
      "cell_type": "markdown",
      "metadata": {
        "id": "FdXZrEUGCvQI"
      },
      "source": [
        "배우 등장 횟수 세기"
      ]
    },
    {
      "cell_type": "code",
      "metadata": {
        "colab": {
          "base_uri": "https://localhost:8080/"
        },
        "id": "44u_LmGqjRL9",
        "outputId": "770516ee-cdab-47a5-9a78-30526567d1c8"
      },
      "source": [
        "actor_dict = dict()\n",
        "for i in actor_list:\n",
        "  if i not in actor_dict:\n",
        "    actor_dict[i]=1\n",
        "  else:\n",
        "    actor_dict[i] = actor_dict[i]+1\n",
        "\n",
        "actor_dict"
      ],
      "execution_count": null,
      "outputs": [
        {
          "output_type": "execute_result",
          "data": {
            "text/plain": [
              "{'J.K. 시몬스': 1,\n",
              " '구교환': 1,\n",
              " '김소진': 1,\n",
              " '김원해': 1,\n",
              " '김윤석': 1,\n",
              " '김재화': 1,\n",
              " '김태우': 1,\n",
              " '김홍파': 1,\n",
              " '데이빗 하버': 1,\n",
              " '라이언 고슬링': 1,\n",
              " '레이첼 와이즈': 1,\n",
              " '로즈마리 드윗': 1,\n",
              " '마크 스트롱': 1,\n",
              " '박경혜': 1,\n",
              " '박명신': 1,\n",
              " '박성훈': 1,\n",
              " '스칼렛 요한슨': 1,\n",
              " '신구': 1,\n",
              " '엠마 스톤': 2,\n",
              " '엠마 톰슨': 1,\n",
              " '오광록': 1,\n",
              " '임원희': 1,\n",
              " '정만식': 1,\n",
              " '조인성': 1,\n",
              " '최민식': 1,\n",
              " '플로렌스 퓨': 1,\n",
              " '핀 위트록': 1,\n",
              " '한석규': 1,\n",
              " '한철우': 1,\n",
              " '허준호': 2}"
            ]
          },
          "metadata": {},
          "execution_count": 6
        }
      ]
    },
    {
      "cell_type": "markdown",
      "metadata": {
        "id": "ZRgLBwF3C6QQ"
      },
      "source": [
        "주연배우(출연진리스트 맨 앞 2사람) 등장 횟수"
      ]
    },
    {
      "cell_type": "code",
      "metadata": {
        "colab": {
          "base_uri": "https://localhost:8080/"
        },
        "id": "UGX3WvTzrPxw",
        "outputId": "3d703a57-d20e-450e-85ad-5f5848cf7f6a"
      },
      "source": [
        "mainactor_dict = dict()\n",
        "for i in mainactor_list:\n",
        "  if i not in mainactor_dict:\n",
        "    mainactor_dict[i]=1\n",
        "  else:\n",
        "    mainactor_dict[i] = mainactor_dict[i]+1\n",
        "\n",
        "mainactor_dict"
      ],
      "execution_count": null,
      "outputs": [
        {
          "output_type": "execute_result",
          "data": {
            "text/plain": [
              "{'김윤석': 1,\n",
              " '라이언 고슬링': 1,\n",
              " '스칼렛 요한슨': 1,\n",
              " '엠마 스톤': 2,\n",
              " '엠마 톰슨': 1,\n",
              " '조인성': 1,\n",
              " '최민식': 1,\n",
              " '플로렌스 퓨': 1,\n",
              " '한석규': 1}"
            ]
          },
          "metadata": {},
          "execution_count": 7
        }
      ]
    },
    {
      "cell_type": "markdown",
      "metadata": {
        "id": "b3rKshrRDBP9"
      },
      "source": [
        "추천해줄 배우 5명 선별\n",
        "* 2번 이상 등장한 배우 우선 선발\n",
        "* 빈자리는 주연배우 리스트에서 랜덤으로 고름"
      ]
    },
    {
      "cell_type": "code",
      "metadata": {
        "colab": {
          "base_uri": "https://localhost:8080/"
        },
        "id": "3ONtfq6xl5DS",
        "outputId": "66b72d7f-64cd-43d4-c117-6df70950ba00"
      },
      "source": [
        "import random\n",
        "\n",
        "prefer_actor_list = []\n",
        "for key, value in actor_dict.items():\n",
        "  if value > 1:\n",
        "    prefer_actor_list.append(key)\n",
        "if len(prefer_actor_list)<5:\n",
        "  while True:\n",
        "    actor = random.choice(mainactor_list)\n",
        "    if actor not in prefer_actor_list:\n",
        "      prefer_actor_list.append(actor)\n",
        "    if len(prefer_actor_list)==5:\n",
        "      break\n",
        "  \n",
        "prefer_actor_list"
      ],
      "execution_count": null,
      "outputs": [
        {
          "output_type": "execute_result",
          "data": {
            "text/plain": [
              "['허준호', '엠마 스톤', '스칼렛 요한슨', '엠마 톰슨', '조인성']"
            ]
          },
          "metadata": {},
          "execution_count": 12
        }
      ]
    },
    {
      "cell_type": "markdown",
      "metadata": {
        "id": "ZHVuO8TjDgFd"
      },
      "source": [
        "배우 코드 추출"
      ]
    },
    {
      "cell_type": "code",
      "metadata": {
        "id": "GqqxuiADLF75"
      },
      "source": [
        "actor_code = []\n",
        "filmo_list = []\n",
        "final_filmo_list = []\n",
        "\n",
        "for prefer_actor in prefer_actor_list:\n",
        "  actor_list_url = 'http://kobis.or.kr/kobisopenapi/webservice/rest/people/searchPeopleList.json?key='+yourcode+'+'&peopleNm='+prefer_actor\n",
        "  res = requests.get(actor_list_url)\n",
        "  text = res.text\n",
        "  d = json.loads(text)\n",
        "\n",
        "  for actor in d['peopleListResult']['peopleList']:\n",
        "    final_filmo_list.clear()\n",
        "    if actor['repRoleNm'] == '배우' and actor['peopleNmEn']!= \"\":\n",
        "      filmo_list = actor['filmoNames'].split(\"|\")\n",
        "      for filmo in filmo_list:\n",
        "        if filmo not in selected_movie_list:\n",
        "          final_filmo_list.append(filmo)\n",
        "      actor_code.append([actor['peopleCd'], actor['peopleNm'],actor['peopleNmEn'],\n",
        "                         actor['repRoleNm'], final_filmo_list[:5]])"
      ],
      "execution_count": null,
      "outputs": []
    },
    {
      "cell_type": "code",
      "metadata": {
        "colab": {
          "base_uri": "https://localhost:8080/"
        },
        "id": "D34M1WHDpLTR",
        "outputId": "fb506f78-8838-4b42-c8ac-45739f666b52"
      },
      "source": [
        "print(selected_movie_list)\n",
        "print(filmo_list)"
      ],
      "execution_count": null,
      "outputs": [
        {
          "output_type": "stream",
          "text": [
            "['모가디슈', '천문: 하늘에 묻는다', '라라랜드', '크루엘라', '블랙 위도우']\n",
            "['모가디슈', '안시성', '더 킹', '쌍화점', '비열한 거리', '남남북녀', '클래식', '마들렌', '화장실, 어디에요?', '밀수', '조인성을 좋아하세요']\n"
          ],
          "name": "stdout"
        }
      ]
    },
    {
      "cell_type": "code",
      "metadata": {
        "colab": {
          "base_uri": "https://localhost:8080/",
          "height": 203
        },
        "id": "Ibtv6fC9MgrL",
        "outputId": "edfc0699-1870-44c7-911a-c5370bc1352b"
      },
      "source": [
        "actor_code_df = pd.DataFrame(actor_code)\n",
        "actor_code_df.columns = ['peopleCd','peopleNm','peopleNmEn','repRoleNm','filmoNames']\n",
        "actor_code_df"
      ],
      "execution_count": null,
      "outputs": [
        {
          "output_type": "execute_result",
          "data": {
            "text/html": [
              "<div>\n",
              "<style scoped>\n",
              "    .dataframe tbody tr th:only-of-type {\n",
              "        vertical-align: middle;\n",
              "    }\n",
              "\n",
              "    .dataframe tbody tr th {\n",
              "        vertical-align: top;\n",
              "    }\n",
              "\n",
              "    .dataframe thead th {\n",
              "        text-align: right;\n",
              "    }\n",
              "</style>\n",
              "<table border=\"1\" class=\"dataframe\">\n",
              "  <thead>\n",
              "    <tr style=\"text-align: right;\">\n",
              "      <th></th>\n",
              "      <th>peopleCd</th>\n",
              "      <th>peopleNm</th>\n",
              "      <th>peopleNmEn</th>\n",
              "      <th>repRoleNm</th>\n",
              "      <th>filmoNames</th>\n",
              "    </tr>\n",
              "  </thead>\n",
              "  <tbody>\n",
              "    <tr>\n",
              "      <th>0</th>\n",
              "      <td>10088453</td>\n",
              "      <td>허준호</td>\n",
              "      <td>HUH Joon-ho</td>\n",
              "      <td>배우</td>\n",
              "      <td>[노량: 죽음의 바다, 결백, 퍼펙트맨, 국가부도의 날, 인랑]</td>\n",
              "    </tr>\n",
              "    <tr>\n",
              "      <th>1</th>\n",
              "      <td>10049633</td>\n",
              "      <td>엠마 스톤</td>\n",
              "      <td>Emma Stone</td>\n",
              "      <td>배우</td>\n",
              "      <td>[크루즈 패밀리: 뉴 에이지, 좀비랜드: 더블 탭, 더 페이버릿: 여왕의 여자, 빌...</td>\n",
              "    </tr>\n",
              "    <tr>\n",
              "      <th>2</th>\n",
              "      <td>10038163</td>\n",
              "      <td>스칼렛 요한슨</td>\n",
              "      <td>Scarlett Johansson</td>\n",
              "      <td>배우</td>\n",
              "      <td>[씽2게더, 조조 래빗, 결혼 이야기, 어벤져스: 엔드게임, 개들의 섬]</td>\n",
              "    </tr>\n",
              "    <tr>\n",
              "      <th>3</th>\n",
              "      <td>10049649</td>\n",
              "      <td>엠마 톰슨</td>\n",
              "      <td>Emma Thompson</td>\n",
              "      <td>배우</td>\n",
              "      <td>[닥터 두리틀, 라스트 크리스마스, 잃어버린 세계를 찾아서, 맨 인 블랙: 인터내셔...</td>\n",
              "    </tr>\n",
              "    <tr>\n",
              "      <th>4</th>\n",
              "      <td>10066899</td>\n",
              "      <td>조인성</td>\n",
              "      <td>ZO In-sung</td>\n",
              "      <td>배우</td>\n",
              "      <td>[안시성, 더 킹, 쌍화점, 비열한 거리, 남남북녀]</td>\n",
              "    </tr>\n",
              "  </tbody>\n",
              "</table>\n",
              "</div>"
            ],
            "text/plain": [
              "   peopleCd  ...                                         filmoNames\n",
              "0  10088453  ...                [노량: 죽음의 바다, 결백, 퍼펙트맨, 국가부도의 날, 인랑]\n",
              "1  10049633  ...  [크루즈 패밀리: 뉴 에이지, 좀비랜드: 더블 탭, 더 페이버릿: 여왕의 여자, 빌...\n",
              "2  10038163  ...           [씽2게더, 조조 래빗, 결혼 이야기, 어벤져스: 엔드게임, 개들의 섬]\n",
              "3  10049649  ...  [닥터 두리틀, 라스트 크리스마스, 잃어버린 세계를 찾아서, 맨 인 블랙: 인터내셔...\n",
              "4  10066899  ...                      [안시성, 더 킹, 쌍화점, 비열한 거리, 남남북녀]\n",
              "\n",
              "[5 rows x 5 columns]"
            ]
          },
          "metadata": {},
          "execution_count": 15
        }
      ]
    }
  ]
}